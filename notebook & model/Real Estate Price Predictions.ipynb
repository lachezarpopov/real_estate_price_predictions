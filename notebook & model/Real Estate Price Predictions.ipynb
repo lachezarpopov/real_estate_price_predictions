{
 "cells": [
  {
   "cell_type": "markdown",
   "metadata": {},
   "source": [
    "Link to tutorial playlist: https://www.youtube.com/watch?v=rdfbcdP75KI&list=PLeo1K3hjS3uu7clOTtwsp94PcHbzqpAdg"
   ]
  },
  {
   "cell_type": "code",
   "execution_count": 4,
   "metadata": {},
   "outputs": [],
   "source": [
    "import pandas as pd\n",
    "import numpy as np\n",
    "from matplotlib import pyplot as plt\n",
    "%matplotlib inline\n",
    "import matplotlib\n",
    "matplotlib.rcParams[\"figure.figsize\"] = (20,10)"
   ]
  },
  {
   "cell_type": "markdown",
   "metadata": {},
   "source": [
    "# Data Exploration"
   ]
  },
  {
   "cell_type": "code",
   "execution_count": 5,
   "metadata": {},
   "outputs": [
    {
     "data": {
      "text/html": [
       "<div>\n",
       "<style scoped>\n",
       "    .dataframe tbody tr th:only-of-type {\n",
       "        vertical-align: middle;\n",
       "    }\n",
       "\n",
       "    .dataframe tbody tr th {\n",
       "        vertical-align: top;\n",
       "    }\n",
       "\n",
       "    .dataframe thead th {\n",
       "        text-align: right;\n",
       "    }\n",
       "</style>\n",
       "<table border=\"1\" class=\"dataframe\">\n",
       "  <thead>\n",
       "    <tr style=\"text-align: right;\">\n",
       "      <th></th>\n",
       "      <th>area_type</th>\n",
       "      <th>availability</th>\n",
       "      <th>location</th>\n",
       "      <th>size</th>\n",
       "      <th>society</th>\n",
       "      <th>total_sqft</th>\n",
       "      <th>bath</th>\n",
       "      <th>balcony</th>\n",
       "      <th>price</th>\n",
       "    </tr>\n",
       "  </thead>\n",
       "  <tbody>\n",
       "    <tr>\n",
       "      <th>0</th>\n",
       "      <td>Super built-up  Area</td>\n",
       "      <td>19-Dec</td>\n",
       "      <td>Electronic City Phase II</td>\n",
       "      <td>2 BHK</td>\n",
       "      <td>Coomee</td>\n",
       "      <td>1056</td>\n",
       "      <td>2.0</td>\n",
       "      <td>1.0</td>\n",
       "      <td>39.07</td>\n",
       "    </tr>\n",
       "    <tr>\n",
       "      <th>1</th>\n",
       "      <td>Plot  Area</td>\n",
       "      <td>Ready To Move</td>\n",
       "      <td>Chikka Tirupathi</td>\n",
       "      <td>4 Bedroom</td>\n",
       "      <td>Theanmp</td>\n",
       "      <td>2600</td>\n",
       "      <td>5.0</td>\n",
       "      <td>3.0</td>\n",
       "      <td>120.00</td>\n",
       "    </tr>\n",
       "    <tr>\n",
       "      <th>2</th>\n",
       "      <td>Built-up  Area</td>\n",
       "      <td>Ready To Move</td>\n",
       "      <td>Uttarahalli</td>\n",
       "      <td>3 BHK</td>\n",
       "      <td>NaN</td>\n",
       "      <td>1440</td>\n",
       "      <td>2.0</td>\n",
       "      <td>3.0</td>\n",
       "      <td>62.00</td>\n",
       "    </tr>\n",
       "    <tr>\n",
       "      <th>3</th>\n",
       "      <td>Super built-up  Area</td>\n",
       "      <td>Ready To Move</td>\n",
       "      <td>Lingadheeranahalli</td>\n",
       "      <td>3 BHK</td>\n",
       "      <td>Soiewre</td>\n",
       "      <td>1521</td>\n",
       "      <td>3.0</td>\n",
       "      <td>1.0</td>\n",
       "      <td>95.00</td>\n",
       "    </tr>\n",
       "    <tr>\n",
       "      <th>4</th>\n",
       "      <td>Super built-up  Area</td>\n",
       "      <td>Ready To Move</td>\n",
       "      <td>Kothanur</td>\n",
       "      <td>2 BHK</td>\n",
       "      <td>NaN</td>\n",
       "      <td>1200</td>\n",
       "      <td>2.0</td>\n",
       "      <td>1.0</td>\n",
       "      <td>51.00</td>\n",
       "    </tr>\n",
       "  </tbody>\n",
       "</table>\n",
       "</div>"
      ],
      "text/plain": [
       "              area_type   availability                  location       size  \\\n",
       "0  Super built-up  Area         19-Dec  Electronic City Phase II      2 BHK   \n",
       "1            Plot  Area  Ready To Move          Chikka Tirupathi  4 Bedroom   \n",
       "2        Built-up  Area  Ready To Move               Uttarahalli      3 BHK   \n",
       "3  Super built-up  Area  Ready To Move        Lingadheeranahalli      3 BHK   \n",
       "4  Super built-up  Area  Ready To Move                  Kothanur      2 BHK   \n",
       "\n",
       "   society total_sqft  bath  balcony   price  \n",
       "0  Coomee        1056   2.0      1.0   39.07  \n",
       "1  Theanmp       2600   5.0      3.0  120.00  \n",
       "2      NaN       1440   2.0      3.0   62.00  \n",
       "3  Soiewre       1521   3.0      1.0   95.00  \n",
       "4      NaN       1200   2.0      1.0   51.00  "
      ]
     },
     "execution_count": 5,
     "metadata": {},
     "output_type": "execute_result"
    }
   ],
   "source": [
    "df1 = pd.read_csv(\"datasets/Bengaluru_House_Data.csv\")\n",
    "df1.head()"
   ]
  },
  {
   "cell_type": "code",
   "execution_count": 6,
   "metadata": {},
   "outputs": [
    {
     "data": {
      "text/plain": [
       "(13320, 9)"
      ]
     },
     "execution_count": 6,
     "metadata": {},
     "output_type": "execute_result"
    }
   ],
   "source": [
    "df1.shape"
   ]
  },
  {
   "cell_type": "code",
   "execution_count": 7,
   "metadata": {
    "scrolled": true
   },
   "outputs": [
    {
     "data": {
      "text/plain": [
       "area_type\n",
       "Built-up  Area          2418\n",
       "Carpet  Area              87\n",
       "Plot  Area              2025\n",
       "Super built-up  Area    8790\n",
       "Name: area_type, dtype: int64"
      ]
     },
     "execution_count": 7,
     "metadata": {},
     "output_type": "execute_result"
    }
   ],
   "source": [
    "df1.groupby('area_type')['area_type'].agg('count')"
   ]
  },
  {
   "cell_type": "code",
   "execution_count": 8,
   "metadata": {},
   "outputs": [
    {
     "data": {
      "text/html": [
       "<div>\n",
       "<style scoped>\n",
       "    .dataframe tbody tr th:only-of-type {\n",
       "        vertical-align: middle;\n",
       "    }\n",
       "\n",
       "    .dataframe tbody tr th {\n",
       "        vertical-align: top;\n",
       "    }\n",
       "\n",
       "    .dataframe thead th {\n",
       "        text-align: right;\n",
       "    }\n",
       "</style>\n",
       "<table border=\"1\" class=\"dataframe\">\n",
       "  <thead>\n",
       "    <tr style=\"text-align: right;\">\n",
       "      <th></th>\n",
       "      <th>area_type</th>\n",
       "    </tr>\n",
       "    <tr>\n",
       "      <th>area_type</th>\n",
       "      <th></th>\n",
       "    </tr>\n",
       "  </thead>\n",
       "  <tbody>\n",
       "    <tr>\n",
       "      <th>Built-up  Area</th>\n",
       "      <td>2418</td>\n",
       "    </tr>\n",
       "    <tr>\n",
       "      <th>Carpet  Area</th>\n",
       "      <td>87</td>\n",
       "    </tr>\n",
       "    <tr>\n",
       "      <th>Plot  Area</th>\n",
       "      <td>2025</td>\n",
       "    </tr>\n",
       "    <tr>\n",
       "      <th>Super built-up  Area</th>\n",
       "      <td>8790</td>\n",
       "    </tr>\n",
       "  </tbody>\n",
       "</table>\n",
       "</div>"
      ],
      "text/plain": [
       "                      area_type\n",
       "area_type                      \n",
       "Built-up  Area             2418\n",
       "Carpet  Area                 87\n",
       "Plot  Area                 2025\n",
       "Super built-up  Area       8790"
      ]
     },
     "execution_count": 8,
     "metadata": {},
     "output_type": "execute_result"
    }
   ],
   "source": [
    "df1.groupby('area_type').agg({'area_type': 'count'})"
   ]
  },
  {
   "cell_type": "markdown",
   "metadata": {},
   "source": [
    "# Data Preparation"
   ]
  },
  {
   "cell_type": "markdown",
   "metadata": {},
   "source": [
    "## Dropping features that will not be used in model training"
   ]
  },
  {
   "cell_type": "code",
   "execution_count": 9,
   "metadata": {},
   "outputs": [
    {
     "data": {
      "text/html": [
       "<div>\n",
       "<style scoped>\n",
       "    .dataframe tbody tr th:only-of-type {\n",
       "        vertical-align: middle;\n",
       "    }\n",
       "\n",
       "    .dataframe tbody tr th {\n",
       "        vertical-align: top;\n",
       "    }\n",
       "\n",
       "    .dataframe thead th {\n",
       "        text-align: right;\n",
       "    }\n",
       "</style>\n",
       "<table border=\"1\" class=\"dataframe\">\n",
       "  <thead>\n",
       "    <tr style=\"text-align: right;\">\n",
       "      <th></th>\n",
       "      <th>location</th>\n",
       "      <th>size</th>\n",
       "      <th>total_sqft</th>\n",
       "      <th>bath</th>\n",
       "      <th>price</th>\n",
       "    </tr>\n",
       "  </thead>\n",
       "  <tbody>\n",
       "    <tr>\n",
       "      <th>0</th>\n",
       "      <td>Electronic City Phase II</td>\n",
       "      <td>2 BHK</td>\n",
       "      <td>1056</td>\n",
       "      <td>2.0</td>\n",
       "      <td>39.07</td>\n",
       "    </tr>\n",
       "    <tr>\n",
       "      <th>1</th>\n",
       "      <td>Chikka Tirupathi</td>\n",
       "      <td>4 Bedroom</td>\n",
       "      <td>2600</td>\n",
       "      <td>5.0</td>\n",
       "      <td>120.00</td>\n",
       "    </tr>\n",
       "    <tr>\n",
       "      <th>2</th>\n",
       "      <td>Uttarahalli</td>\n",
       "      <td>3 BHK</td>\n",
       "      <td>1440</td>\n",
       "      <td>2.0</td>\n",
       "      <td>62.00</td>\n",
       "    </tr>\n",
       "    <tr>\n",
       "      <th>3</th>\n",
       "      <td>Lingadheeranahalli</td>\n",
       "      <td>3 BHK</td>\n",
       "      <td>1521</td>\n",
       "      <td>3.0</td>\n",
       "      <td>95.00</td>\n",
       "    </tr>\n",
       "    <tr>\n",
       "      <th>4</th>\n",
       "      <td>Kothanur</td>\n",
       "      <td>2 BHK</td>\n",
       "      <td>1200</td>\n",
       "      <td>2.0</td>\n",
       "      <td>51.00</td>\n",
       "    </tr>\n",
       "  </tbody>\n",
       "</table>\n",
       "</div>"
      ],
      "text/plain": [
       "                   location       size total_sqft  bath   price\n",
       "0  Electronic City Phase II      2 BHK       1056   2.0   39.07\n",
       "1          Chikka Tirupathi  4 Bedroom       2600   5.0  120.00\n",
       "2               Uttarahalli      3 BHK       1440   2.0   62.00\n",
       "3        Lingadheeranahalli      3 BHK       1521   3.0   95.00\n",
       "4                  Kothanur      2 BHK       1200   2.0   51.00"
      ]
     },
     "execution_count": 9,
     "metadata": {},
     "output_type": "execute_result"
    }
   ],
   "source": [
    "df2 = df1.drop(['area_type', 'society', 'balcony', 'availability'], axis='columns')\n",
    "#df2.describe()\n",
    "df2.head()"
   ]
  },
  {
   "cell_type": "markdown",
   "metadata": {},
   "source": [
    "## Dropping missing values"
   ]
  },
  {
   "cell_type": "code",
   "execution_count": 11,
   "metadata": {},
   "outputs": [
    {
     "data": {
      "text/plain": [
       "location       1\n",
       "size          16\n",
       "total_sqft     0\n",
       "bath          73\n",
       "price          0\n",
       "dtype: int64"
      ]
     },
     "execution_count": 11,
     "metadata": {},
     "output_type": "execute_result"
    }
   ],
   "source": [
    "df2.isnull().sum(axis='rows') "
   ]
  },
  {
   "cell_type": "code",
   "execution_count": 12,
   "metadata": {},
   "outputs": [
    {
     "data": {
      "text/plain": [
       "(13246, 5)"
      ]
     },
     "execution_count": 12,
     "metadata": {},
     "output_type": "execute_result"
    }
   ],
   "source": [
    "df3 = df2.dropna() \n",
    "df3.shape"
   ]
  },
  {
   "cell_type": "markdown",
   "metadata": {},
   "source": [
    "## Removing text from 'size' column and keepin integer values"
   ]
  },
  {
   "cell_type": "code",
   "execution_count": 13,
   "metadata": {
    "scrolled": true
   },
   "outputs": [
    {
     "data": {
      "text/plain": [
       "array(['2 BHK', '4 Bedroom', '3 BHK', '4 BHK', '6 Bedroom', '3 Bedroom',\n",
       "       '1 BHK', '1 RK', '1 Bedroom', '8 Bedroom', '2 Bedroom',\n",
       "       '7 Bedroom', '5 BHK', '7 BHK', '6 BHK', '5 Bedroom', '11 BHK',\n",
       "       '9 BHK', '9 Bedroom', '27 BHK', '10 Bedroom', '11 Bedroom',\n",
       "       '10 BHK', '19 BHK', '16 BHK', '43 Bedroom', '14 BHK', '8 BHK',\n",
       "       '12 Bedroom', '13 BHK', '18 Bedroom'], dtype=object)"
      ]
     },
     "execution_count": 13,
     "metadata": {},
     "output_type": "execute_result"
    }
   ],
   "source": [
    "df3['size'].unique()"
   ]
  },
  {
   "cell_type": "code",
   "execution_count": 14,
   "metadata": {
    "scrolled": true
   },
   "outputs": [
    {
     "name": "stderr",
     "output_type": "stream",
     "text": [
      "C:\\Users\\lache\\AppData\\Local\\Temp/ipykernel_15608/1698009599.py:1: SettingWithCopyWarning: \n",
      "A value is trying to be set on a copy of a slice from a DataFrame.\n",
      "Try using .loc[row_indexer,col_indexer] = value instead\n",
      "\n",
      "See the caveats in the documentation: https://pandas.pydata.org/pandas-docs/stable/user_guide/indexing.html#returning-a-view-versus-a-copy\n",
      "  df3['bhk'] = df3['size'].apply(lambda x: int(x.split()[0]))\n"
     ]
    }
   ],
   "source": [
    "df3['bhk'] = df3['size'].apply(lambda x: int(x.split()[0]))"
   ]
  },
  {
   "cell_type": "code",
   "execution_count": 15,
   "metadata": {},
   "outputs": [
    {
     "data": {
      "text/html": [
       "<div>\n",
       "<style scoped>\n",
       "    .dataframe tbody tr th:only-of-type {\n",
       "        vertical-align: middle;\n",
       "    }\n",
       "\n",
       "    .dataframe tbody tr th {\n",
       "        vertical-align: top;\n",
       "    }\n",
       "\n",
       "    .dataframe thead th {\n",
       "        text-align: right;\n",
       "    }\n",
       "</style>\n",
       "<table border=\"1\" class=\"dataframe\">\n",
       "  <thead>\n",
       "    <tr style=\"text-align: right;\">\n",
       "      <th></th>\n",
       "      <th>location</th>\n",
       "      <th>size</th>\n",
       "      <th>total_sqft</th>\n",
       "      <th>bath</th>\n",
       "      <th>price</th>\n",
       "      <th>bhk</th>\n",
       "    </tr>\n",
       "  </thead>\n",
       "  <tbody>\n",
       "    <tr>\n",
       "      <th>0</th>\n",
       "      <td>Electronic City Phase II</td>\n",
       "      <td>2 BHK</td>\n",
       "      <td>1056</td>\n",
       "      <td>2.0</td>\n",
       "      <td>39.07</td>\n",
       "      <td>2</td>\n",
       "    </tr>\n",
       "    <tr>\n",
       "      <th>1</th>\n",
       "      <td>Chikka Tirupathi</td>\n",
       "      <td>4 Bedroom</td>\n",
       "      <td>2600</td>\n",
       "      <td>5.0</td>\n",
       "      <td>120.00</td>\n",
       "      <td>4</td>\n",
       "    </tr>\n",
       "    <tr>\n",
       "      <th>2</th>\n",
       "      <td>Uttarahalli</td>\n",
       "      <td>3 BHK</td>\n",
       "      <td>1440</td>\n",
       "      <td>2.0</td>\n",
       "      <td>62.00</td>\n",
       "      <td>3</td>\n",
       "    </tr>\n",
       "    <tr>\n",
       "      <th>3</th>\n",
       "      <td>Lingadheeranahalli</td>\n",
       "      <td>3 BHK</td>\n",
       "      <td>1521</td>\n",
       "      <td>3.0</td>\n",
       "      <td>95.00</td>\n",
       "      <td>3</td>\n",
       "    </tr>\n",
       "    <tr>\n",
       "      <th>4</th>\n",
       "      <td>Kothanur</td>\n",
       "      <td>2 BHK</td>\n",
       "      <td>1200</td>\n",
       "      <td>2.0</td>\n",
       "      <td>51.00</td>\n",
       "      <td>2</td>\n",
       "    </tr>\n",
       "  </tbody>\n",
       "</table>\n",
       "</div>"
      ],
      "text/plain": [
       "                   location       size total_sqft  bath   price  bhk\n",
       "0  Electronic City Phase II      2 BHK       1056   2.0   39.07    2\n",
       "1          Chikka Tirupathi  4 Bedroom       2600   5.0  120.00    4\n",
       "2               Uttarahalli      3 BHK       1440   2.0   62.00    3\n",
       "3        Lingadheeranahalli      3 BHK       1521   3.0   95.00    3\n",
       "4                  Kothanur      2 BHK       1200   2.0   51.00    2"
      ]
     },
     "execution_count": 15,
     "metadata": {},
     "output_type": "execute_result"
    }
   ],
   "source": [
    "df3.head()"
   ]
  },
  {
   "cell_type": "code",
   "execution_count": 16,
   "metadata": {},
   "outputs": [
    {
     "data": {
      "text/plain": [
       "array([ 2,  4,  3,  6,  1,  8,  7,  5, 11,  9, 27, 10, 19, 16, 43, 14, 12,\n",
       "       13, 18], dtype=int64)"
      ]
     },
     "execution_count": 16,
     "metadata": {},
     "output_type": "execute_result"
    }
   ],
   "source": [
    "df3['bhk'].unique()"
   ]
  },
  {
   "cell_type": "code",
   "execution_count": 17,
   "metadata": {},
   "outputs": [
    {
     "data": {
      "text/html": [
       "<div>\n",
       "<style scoped>\n",
       "    .dataframe tbody tr th:only-of-type {\n",
       "        vertical-align: middle;\n",
       "    }\n",
       "\n",
       "    .dataframe tbody tr th {\n",
       "        vertical-align: top;\n",
       "    }\n",
       "\n",
       "    .dataframe thead th {\n",
       "        text-align: right;\n",
       "    }\n",
       "</style>\n",
       "<table border=\"1\" class=\"dataframe\">\n",
       "  <thead>\n",
       "    <tr style=\"text-align: right;\">\n",
       "      <th></th>\n",
       "      <th>location</th>\n",
       "      <th>size</th>\n",
       "      <th>total_sqft</th>\n",
       "      <th>bath</th>\n",
       "      <th>price</th>\n",
       "      <th>bhk</th>\n",
       "    </tr>\n",
       "  </thead>\n",
       "  <tbody>\n",
       "    <tr>\n",
       "      <th>1718</th>\n",
       "      <td>2Electronic City Phase II</td>\n",
       "      <td>27 BHK</td>\n",
       "      <td>8000</td>\n",
       "      <td>27.0</td>\n",
       "      <td>230.0</td>\n",
       "      <td>27</td>\n",
       "    </tr>\n",
       "    <tr>\n",
       "      <th>4684</th>\n",
       "      <td>Munnekollal</td>\n",
       "      <td>43 Bedroom</td>\n",
       "      <td>2400</td>\n",
       "      <td>40.0</td>\n",
       "      <td>660.0</td>\n",
       "      <td>43</td>\n",
       "    </tr>\n",
       "  </tbody>\n",
       "</table>\n",
       "</div>"
      ],
      "text/plain": [
       "                       location        size total_sqft  bath  price  bhk\n",
       "1718  2Electronic City Phase II      27 BHK       8000  27.0  230.0   27\n",
       "4684                Munnekollal  43 Bedroom       2400  40.0  660.0   43"
      ]
     },
     "execution_count": 17,
     "metadata": {},
     "output_type": "execute_result"
    }
   ],
   "source": [
    "df3[df3['bhk']>20]"
   ]
  },
  {
   "cell_type": "markdown",
   "metadata": {},
   "source": [
    "## Exploring total_sqft"
   ]
  },
  {
   "cell_type": "code",
   "execution_count": 18,
   "metadata": {},
   "outputs": [
    {
     "data": {
      "text/plain": [
       "array(['1056', '2600', '1440', ..., '1133 - 1384', '774', '4689'],\n",
       "      dtype=object)"
      ]
     },
     "execution_count": 18,
     "metadata": {},
     "output_type": "execute_result"
    }
   ],
   "source": [
    "df3.total_sqft.unique()"
   ]
  },
  {
   "cell_type": "code",
   "execution_count": 19,
   "metadata": {},
   "outputs": [],
   "source": [
    "def is_float(x):\n",
    "    try:\n",
    "        float(x)\n",
    "    except:\n",
    "        return False\n",
    "    return True"
   ]
  },
  {
   "cell_type": "code",
   "execution_count": 21,
   "metadata": {},
   "outputs": [
    {
     "data": {
      "text/plain": [
       "30       2100 - 2850\n",
       "122      3067 - 8156\n",
       "137      1042 - 1105\n",
       "165      1145 - 1340\n",
       "188      1015 - 1540\n",
       "            ...     \n",
       "12975     850 - 1060\n",
       "12990    1804 - 2273\n",
       "13059    1200 - 1470\n",
       "13265    1133 - 1384\n",
       "13299    2830 - 2882\n",
       "Name: total_sqft, Length: 190, dtype: object"
      ]
     },
     "execution_count": 21,
     "metadata": {},
     "output_type": "execute_result"
    }
   ],
   "source": [
    "mask = df3['total_sqft'].apply(is_float)\n",
    "df3[~mask]['total_sqft']"
   ]
  },
  {
   "cell_type": "markdown",
   "metadata": {},
   "source": [
    "There are certain values which are non-numeric in the 'total_sqft' column. These are size ranges encoded as string values. We can split the lower and upper range using regex and take the midpoint as the value for 'total_sqft' for a given house."
   ]
  },
  {
   "cell_type": "code",
   "execution_count": 20,
   "metadata": {},
   "outputs": [],
   "source": [
    "def average_sqft(x):\n",
    "    try:\n",
    "        low_range = float(x.split()[0])\n",
    "        high_range = float(x.split()[2])\n",
    "        average = np.mean([low_range, high_range])\n",
    "        return average\n",
    "    except:\n",
    "        return None"
   ]
  },
  {
   "cell_type": "code",
   "execution_count": 22,
   "metadata": {},
   "outputs": [
    {
     "name": "stderr",
     "output_type": "stream",
     "text": [
      "C:\\Users\\lache\\AppData\\Local\\Temp/ipykernel_15608/65713947.py:1: SettingWithCopyWarning: \n",
      "A value is trying to be set on a copy of a slice from a DataFrame\n",
      "\n",
      "See the caveats in the documentation: https://pandas.pydata.org/pandas-docs/stable/user_guide/indexing.html#returning-a-view-versus-a-copy\n",
      "  df3['total_sqft'][~mask] = df3['total_sqft'][~mask].apply(average_sqft)\n",
      "C:\\Users\\lache\\AppData\\Roaming\\Python\\Python38\\site-packages\\pandas\\core\\series.py:1021: SettingWithCopyWarning: \n",
      "A value is trying to be set on a copy of a slice from a DataFrame\n",
      "\n",
      "See the caveats in the documentation: https://pandas.pydata.org/pandas-docs/stable/user_guide/indexing.html#returning-a-view-versus-a-copy\n",
      "  self._where(~key, value, inplace=True)\n"
     ]
    },
    {
     "data": {
      "text/html": [
       "<div>\n",
       "<style scoped>\n",
       "    .dataframe tbody tr th:only-of-type {\n",
       "        vertical-align: middle;\n",
       "    }\n",
       "\n",
       "    .dataframe tbody tr th {\n",
       "        vertical-align: top;\n",
       "    }\n",
       "\n",
       "    .dataframe thead th {\n",
       "        text-align: right;\n",
       "    }\n",
       "</style>\n",
       "<table border=\"1\" class=\"dataframe\">\n",
       "  <thead>\n",
       "    <tr style=\"text-align: right;\">\n",
       "      <th></th>\n",
       "      <th>location</th>\n",
       "      <th>size</th>\n",
       "      <th>total_sqft</th>\n",
       "      <th>bath</th>\n",
       "      <th>price</th>\n",
       "      <th>bhk</th>\n",
       "    </tr>\n",
       "  </thead>\n",
       "  <tbody>\n",
       "    <tr>\n",
       "      <th>30</th>\n",
       "      <td>Yelahanka</td>\n",
       "      <td>4 BHK</td>\n",
       "      <td>2475</td>\n",
       "      <td>4.0</td>\n",
       "      <td>186.000</td>\n",
       "      <td>4</td>\n",
       "    </tr>\n",
       "    <tr>\n",
       "      <th>122</th>\n",
       "      <td>Hebbal</td>\n",
       "      <td>4 BHK</td>\n",
       "      <td>5611.5</td>\n",
       "      <td>4.0</td>\n",
       "      <td>477.000</td>\n",
       "      <td>4</td>\n",
       "    </tr>\n",
       "    <tr>\n",
       "      <th>137</th>\n",
       "      <td>8th Phase JP Nagar</td>\n",
       "      <td>2 BHK</td>\n",
       "      <td>1073.5</td>\n",
       "      <td>2.0</td>\n",
       "      <td>54.005</td>\n",
       "      <td>2</td>\n",
       "    </tr>\n",
       "    <tr>\n",
       "      <th>165</th>\n",
       "      <td>Sarjapur</td>\n",
       "      <td>2 BHK</td>\n",
       "      <td>1242.5</td>\n",
       "      <td>2.0</td>\n",
       "      <td>43.490</td>\n",
       "      <td>2</td>\n",
       "    </tr>\n",
       "    <tr>\n",
       "      <th>188</th>\n",
       "      <td>KR Puram</td>\n",
       "      <td>2 BHK</td>\n",
       "      <td>1277.5</td>\n",
       "      <td>2.0</td>\n",
       "      <td>56.800</td>\n",
       "      <td>2</td>\n",
       "    </tr>\n",
       "    <tr>\n",
       "      <th>410</th>\n",
       "      <td>Kengeri</td>\n",
       "      <td>1 BHK</td>\n",
       "      <td>NaN</td>\n",
       "      <td>1.0</td>\n",
       "      <td>18.500</td>\n",
       "      <td>1</td>\n",
       "    </tr>\n",
       "    <tr>\n",
       "      <th>549</th>\n",
       "      <td>Hennur Road</td>\n",
       "      <td>2 BHK</td>\n",
       "      <td>1317.5</td>\n",
       "      <td>2.0</td>\n",
       "      <td>63.770</td>\n",
       "      <td>2</td>\n",
       "    </tr>\n",
       "    <tr>\n",
       "      <th>648</th>\n",
       "      <td>Arekere</td>\n",
       "      <td>9 Bedroom</td>\n",
       "      <td>NaN</td>\n",
       "      <td>9.0</td>\n",
       "      <td>265.000</td>\n",
       "      <td>9</td>\n",
       "    </tr>\n",
       "    <tr>\n",
       "      <th>661</th>\n",
       "      <td>Yelahanka</td>\n",
       "      <td>2 BHK</td>\n",
       "      <td>1132.5</td>\n",
       "      <td>2.0</td>\n",
       "      <td>48.130</td>\n",
       "      <td>2</td>\n",
       "    </tr>\n",
       "    <tr>\n",
       "      <th>672</th>\n",
       "      <td>Bettahalsoor</td>\n",
       "      <td>4 Bedroom</td>\n",
       "      <td>4046</td>\n",
       "      <td>4.0</td>\n",
       "      <td>445.000</td>\n",
       "      <td>4</td>\n",
       "    </tr>\n",
       "  </tbody>\n",
       "</table>\n",
       "</div>"
      ],
      "text/plain": [
       "               location       size total_sqft  bath    price  bhk\n",
       "30            Yelahanka      4 BHK       2475   4.0  186.000    4\n",
       "122              Hebbal      4 BHK     5611.5   4.0  477.000    4\n",
       "137  8th Phase JP Nagar      2 BHK     1073.5   2.0   54.005    2\n",
       "165            Sarjapur      2 BHK     1242.5   2.0   43.490    2\n",
       "188            KR Puram      2 BHK     1277.5   2.0   56.800    2\n",
       "410             Kengeri      1 BHK        NaN   1.0   18.500    1\n",
       "549         Hennur Road      2 BHK     1317.5   2.0   63.770    2\n",
       "648             Arekere  9 Bedroom        NaN   9.0  265.000    9\n",
       "661           Yelahanka      2 BHK     1132.5   2.0   48.130    2\n",
       "672        Bettahalsoor  4 Bedroom       4046   4.0  445.000    4"
      ]
     },
     "execution_count": 22,
     "metadata": {},
     "output_type": "execute_result"
    }
   ],
   "source": [
    "df3['total_sqft'][~mask] = df3['total_sqft'][~mask].apply(average_sqft)\n",
    "df3[~mask].head(10)"
   ]
  },
  {
   "cell_type": "markdown",
   "metadata": {},
   "source": [
    "Let us see if there are any non-float values remaining"
   ]
  },
  {
   "cell_type": "code",
   "execution_count": 24,
   "metadata": {},
   "outputs": [
    {
     "data": {
      "text/plain": [
       "Series([], Name: total_sqft, dtype: object)"
      ]
     },
     "execution_count": 24,
     "metadata": {},
     "output_type": "execute_result"
    }
   ],
   "source": [
    "mask = df3['total_sqft'].apply(is_float)\n",
    "df3['total_sqft'][~mask]"
   ]
  },
  {
   "cell_type": "markdown",
   "metadata": {},
   "source": [
    "## Creating new variable - price per sqft"
   ]
  },
  {
   "cell_type": "code",
   "execution_count": 26,
   "metadata": {},
   "outputs": [
    {
     "data": {
      "text/html": [
       "<div>\n",
       "<style scoped>\n",
       "    .dataframe tbody tr th:only-of-type {\n",
       "        vertical-align: middle;\n",
       "    }\n",
       "\n",
       "    .dataframe tbody tr th {\n",
       "        vertical-align: top;\n",
       "    }\n",
       "\n",
       "    .dataframe thead th {\n",
       "        text-align: right;\n",
       "    }\n",
       "</style>\n",
       "<table border=\"1\" class=\"dataframe\">\n",
       "  <thead>\n",
       "    <tr style=\"text-align: right;\">\n",
       "      <th></th>\n",
       "      <th>location</th>\n",
       "      <th>size</th>\n",
       "      <th>total_sqft</th>\n",
       "      <th>bath</th>\n",
       "      <th>price</th>\n",
       "      <th>bhk</th>\n",
       "      <th>price_per_sqft</th>\n",
       "    </tr>\n",
       "  </thead>\n",
       "  <tbody>\n",
       "    <tr>\n",
       "      <th>0</th>\n",
       "      <td>Electronic City Phase II</td>\n",
       "      <td>2 BHK</td>\n",
       "      <td>1056.0</td>\n",
       "      <td>2.0</td>\n",
       "      <td>39.07</td>\n",
       "      <td>2</td>\n",
       "      <td>3699.810606</td>\n",
       "    </tr>\n",
       "    <tr>\n",
       "      <th>1</th>\n",
       "      <td>Chikka Tirupathi</td>\n",
       "      <td>4 Bedroom</td>\n",
       "      <td>2600.0</td>\n",
       "      <td>5.0</td>\n",
       "      <td>120.00</td>\n",
       "      <td>4</td>\n",
       "      <td>4615.384615</td>\n",
       "    </tr>\n",
       "    <tr>\n",
       "      <th>2</th>\n",
       "      <td>Uttarahalli</td>\n",
       "      <td>3 BHK</td>\n",
       "      <td>1440.0</td>\n",
       "      <td>2.0</td>\n",
       "      <td>62.00</td>\n",
       "      <td>3</td>\n",
       "      <td>4305.555556</td>\n",
       "    </tr>\n",
       "    <tr>\n",
       "      <th>3</th>\n",
       "      <td>Lingadheeranahalli</td>\n",
       "      <td>3 BHK</td>\n",
       "      <td>1521.0</td>\n",
       "      <td>3.0</td>\n",
       "      <td>95.00</td>\n",
       "      <td>3</td>\n",
       "      <td>6245.890861</td>\n",
       "    </tr>\n",
       "    <tr>\n",
       "      <th>4</th>\n",
       "      <td>Kothanur</td>\n",
       "      <td>2 BHK</td>\n",
       "      <td>1200.0</td>\n",
       "      <td>2.0</td>\n",
       "      <td>51.00</td>\n",
       "      <td>2</td>\n",
       "      <td>4250.000000</td>\n",
       "    </tr>\n",
       "  </tbody>\n",
       "</table>\n",
       "</div>"
      ],
      "text/plain": [
       "                   location       size  total_sqft  bath   price  bhk  \\\n",
       "0  Electronic City Phase II      2 BHK      1056.0   2.0   39.07    2   \n",
       "1          Chikka Tirupathi  4 Bedroom      2600.0   5.0  120.00    4   \n",
       "2               Uttarahalli      3 BHK      1440.0   2.0   62.00    3   \n",
       "3        Lingadheeranahalli      3 BHK      1521.0   3.0   95.00    3   \n",
       "4                  Kothanur      2 BHK      1200.0   2.0   51.00    2   \n",
       "\n",
       "   price_per_sqft  \n",
       "0     3699.810606  \n",
       "1     4615.384615  \n",
       "2     4305.555556  \n",
       "3     6245.890861  \n",
       "4     4250.000000  "
      ]
     },
     "execution_count": 26,
     "metadata": {},
     "output_type": "execute_result"
    }
   ],
   "source": [
    "df5 = df3.copy()\n",
    "df5['total_sqft'] = df5['total_sqft'].astype(float)\n",
    "df5['price_per_sqft'] = df5['price']*100000 / df5['total_sqft']\n",
    "df5.head()"
   ]
  },
  {
   "cell_type": "code",
   "execution_count": 27,
   "metadata": {},
   "outputs": [
    {
     "data": {
      "text/plain": [
       "count    1.320000e+04\n",
       "mean     7.920759e+03\n",
       "std      1.067272e+05\n",
       "min      2.678298e+02\n",
       "25%      4.267701e+03\n",
       "50%      5.438331e+03\n",
       "75%      7.317073e+03\n",
       "max      1.200000e+07\n",
       "Name: price_per_sqft, dtype: float64"
      ]
     },
     "execution_count": 27,
     "metadata": {},
     "output_type": "execute_result"
    }
   ],
   "source": [
    "df5['price_per_sqft'].describe()"
   ]
  },
  {
   "cell_type": "markdown",
   "metadata": {},
   "source": [
    "## Examining locations variable"
   ]
  },
  {
   "cell_type": "code",
   "execution_count": 28,
   "metadata": {
    "scrolled": true
   },
   "outputs": [
    {
     "data": {
      "text/plain": [
       "1304"
      ]
     },
     "execution_count": 28,
     "metadata": {},
     "output_type": "execute_result"
    }
   ],
   "source": [
    "len(df5.location.unique())"
   ]
  },
  {
   "cell_type": "code",
   "execution_count": 29,
   "metadata": {
    "scrolled": true
   },
   "outputs": [
    {
     "data": {
      "text/plain": [
       "location\n",
       "Whitefield                            534\n",
       "Sarjapur  Road                        392\n",
       "Electronic City                       302\n",
       "Kanakpura Road                        266\n",
       "Thanisandra                           233\n",
       "                                     ... \n",
       "Konappana Agrahara                      1\n",
       "Kodanda Reddy Layout                    1\n",
       "Kirloskar layout, Basaveshwarnagar      1\n",
       "Kengeri Satellite Town Stage II         1\n",
       " Anekal                                 1\n",
       "Name: location, Length: 1304, dtype: int64"
      ]
     },
     "execution_count": 29,
     "metadata": {},
     "output_type": "execute_result"
    }
   ],
   "source": [
    "#df5.location = df5.location.apply(lambda x: x.strip())\n",
    "location_stats = df5.groupby('location')['location'].agg('count').sort_values(ascending=False)\n",
    "location_stats"
   ]
  },
  {
   "cell_type": "code",
   "execution_count": 30,
   "metadata": {},
   "outputs": [
    {
     "data": {
      "text/plain": [
       "1063"
      ]
     },
     "execution_count": 30,
     "metadata": {},
     "output_type": "execute_result"
    }
   ],
   "source": [
    "len(location_stats[location_stats <= 10])"
   ]
  },
  {
   "cell_type": "markdown",
   "metadata": {},
   "source": [
    "We see that the 'location' variable has many categories, most of which contain very little instances. We can reduce the number of categories by grouping the locations with less then 10 houses into a new category - 'other'"
   ]
  },
  {
   "cell_type": "code",
   "execution_count": 31,
   "metadata": {
    "scrolled": true
   },
   "outputs": [
    {
     "data": {
      "text/plain": [
       "location\n",
       "Ganga Nagar                           10\n",
       "Nagappa Reddy Layout                  10\n",
       "BTM 1st Stage                         10\n",
       "Dodsworth Layout                      10\n",
       "Kalkere                               10\n",
       "                                      ..\n",
       "Konappana Agrahara                     1\n",
       "Kodanda Reddy Layout                   1\n",
       "Kirloskar layout, Basaveshwarnagar     1\n",
       "Kengeri Satellite Town Stage II        1\n",
       " Anekal                                1\n",
       "Name: location, Length: 1063, dtype: int64"
      ]
     },
     "execution_count": 31,
     "metadata": {},
     "output_type": "execute_result"
    }
   ],
   "source": [
    "locations_stats_less_than_10 = location_stats[location_stats <= 10]\n",
    "locations_stats_less_than_10"
   ]
  },
  {
   "cell_type": "code",
   "execution_count": 32,
   "metadata": {},
   "outputs": [
    {
     "data": {
      "text/plain": [
       "242"
      ]
     },
     "execution_count": 32,
     "metadata": {},
     "output_type": "execute_result"
    }
   ],
   "source": [
    "df5.location = df5.location.apply(lambda x: 'other' if x in locations_stats_less_than_10 else x)\n",
    "len(df5.location.unique())"
   ]
  },
  {
   "cell_type": "code",
   "execution_count": 33,
   "metadata": {},
   "outputs": [
    {
     "data": {
      "text/plain": [
       "0     Electronic City Phase II\n",
       "1             Chikka Tirupathi\n",
       "2                  Uttarahalli\n",
       "3           Lingadheeranahalli\n",
       "4                     Kothanur\n",
       "5                   Whitefield\n",
       "6             Old Airport Road\n",
       "7                 Rajaji Nagar\n",
       "8                 Marathahalli\n",
       "9                        other\n",
       "10                  Whitefield\n",
       "11                  Whitefield\n",
       "12          7th Phase JP Nagar\n",
       "13                   Gottigere\n",
       "14                    Sarjapur\n",
       "Name: location, dtype: object"
      ]
     },
     "execution_count": 33,
     "metadata": {},
     "output_type": "execute_result"
    }
   ],
   "source": [
    "df5.location.head(15)"
   ]
  },
  {
   "cell_type": "markdown",
   "metadata": {},
   "source": [
    "## Outlier removal"
   ]
  },
  {
   "cell_type": "markdown",
   "metadata": {},
   "source": [
    "Based on business logic we can remove the houses with less than 300 sqft per bedroom."
   ]
  },
  {
   "cell_type": "code",
   "execution_count": 34,
   "metadata": {},
   "outputs": [
    {
     "data": {
      "text/html": [
       "<div>\n",
       "<style scoped>\n",
       "    .dataframe tbody tr th:only-of-type {\n",
       "        vertical-align: middle;\n",
       "    }\n",
       "\n",
       "    .dataframe tbody tr th {\n",
       "        vertical-align: top;\n",
       "    }\n",
       "\n",
       "    .dataframe thead th {\n",
       "        text-align: right;\n",
       "    }\n",
       "</style>\n",
       "<table border=\"1\" class=\"dataframe\">\n",
       "  <thead>\n",
       "    <tr style=\"text-align: right;\">\n",
       "      <th></th>\n",
       "      <th>total_sqft</th>\n",
       "      <th>bath</th>\n",
       "      <th>price</th>\n",
       "      <th>bhk</th>\n",
       "      <th>price_per_sqft</th>\n",
       "    </tr>\n",
       "  </thead>\n",
       "  <tbody>\n",
       "    <tr>\n",
       "      <th>count</th>\n",
       "      <td>744.000000</td>\n",
       "      <td>744.000000</td>\n",
       "      <td>744.000000</td>\n",
       "      <td>744.000000</td>\n",
       "      <td>7.440000e+02</td>\n",
       "    </tr>\n",
       "    <tr>\n",
       "      <th>mean</th>\n",
       "      <td>971.224462</td>\n",
       "      <td>4.840054</td>\n",
       "      <td>130.495054</td>\n",
       "      <td>5.342742</td>\n",
       "      <td>3.491305e+04</td>\n",
       "    </tr>\n",
       "    <tr>\n",
       "      <th>std</th>\n",
       "      <td>452.337485</td>\n",
       "      <td>2.717266</td>\n",
       "      <td>81.466194</td>\n",
       "      <td>2.620347</td>\n",
       "      <td>4.486481e+05</td>\n",
       "    </tr>\n",
       "    <tr>\n",
       "      <th>min</th>\n",
       "      <td>1.000000</td>\n",
       "      <td>1.000000</td>\n",
       "      <td>8.000000</td>\n",
       "      <td>1.000000</td>\n",
       "      <td>2.045455e+03</td>\n",
       "    </tr>\n",
       "    <tr>\n",
       "      <th>25%</th>\n",
       "      <td>600.000000</td>\n",
       "      <td>3.000000</td>\n",
       "      <td>77.750000</td>\n",
       "      <td>4.000000</td>\n",
       "      <td>9.430544e+03</td>\n",
       "    </tr>\n",
       "    <tr>\n",
       "      <th>50%</th>\n",
       "      <td>942.500000</td>\n",
       "      <td>4.000000</td>\n",
       "      <td>110.000000</td>\n",
       "      <td>5.000000</td>\n",
       "      <td>1.250000e+04</td>\n",
       "    </tr>\n",
       "    <tr>\n",
       "      <th>75%</th>\n",
       "      <td>1200.000000</td>\n",
       "      <td>6.000000</td>\n",
       "      <td>165.000000</td>\n",
       "      <td>6.000000</td>\n",
       "      <td>1.625000e+04</td>\n",
       "    </tr>\n",
       "    <tr>\n",
       "      <th>max</th>\n",
       "      <td>8000.000000</td>\n",
       "      <td>40.000000</td>\n",
       "      <td>675.000000</td>\n",
       "      <td>43.000000</td>\n",
       "      <td>1.200000e+07</td>\n",
       "    </tr>\n",
       "  </tbody>\n",
       "</table>\n",
       "</div>"
      ],
      "text/plain": [
       "        total_sqft        bath       price         bhk  price_per_sqft\n",
       "count   744.000000  744.000000  744.000000  744.000000    7.440000e+02\n",
       "mean    971.224462    4.840054  130.495054    5.342742    3.491305e+04\n",
       "std     452.337485    2.717266   81.466194    2.620347    4.486481e+05\n",
       "min       1.000000    1.000000    8.000000    1.000000    2.045455e+03\n",
       "25%     600.000000    3.000000   77.750000    4.000000    9.430544e+03\n",
       "50%     942.500000    4.000000  110.000000    5.000000    1.250000e+04\n",
       "75%    1200.000000    6.000000  165.000000    6.000000    1.625000e+04\n",
       "max    8000.000000   40.000000  675.000000   43.000000    1.200000e+07"
      ]
     },
     "execution_count": 34,
     "metadata": {},
     "output_type": "execute_result"
    }
   ],
   "source": [
    "df5[(df5.total_sqft/df5.bhk)<300].describe()"
   ]
  },
  {
   "cell_type": "code",
   "execution_count": 35,
   "metadata": {},
   "outputs": [
    {
     "data": {
      "text/plain": [
       "(12502, 7)"
      ]
     },
     "execution_count": 35,
     "metadata": {},
     "output_type": "execute_result"
    }
   ],
   "source": [
    "df6 = df5[~((df5.total_sqft/df5.bhk)<300)]\n",
    "df6.shape"
   ]
  },
  {
   "cell_type": "markdown",
   "metadata": {},
   "source": [
    "We can also explore the variability of price per square foot variable."
   ]
  },
  {
   "cell_type": "code",
   "execution_count": 36,
   "metadata": {},
   "outputs": [
    {
     "data": {
      "text/plain": [
       "count     12456.000000\n",
       "mean       6308.502826\n",
       "std        4168.127339\n",
       "min         267.829813\n",
       "25%        4210.526316\n",
       "50%        5294.117647\n",
       "75%        6916.666667\n",
       "max      176470.588235\n",
       "Name: price_per_sqft, dtype: float64"
      ]
     },
     "execution_count": 36,
     "metadata": {},
     "output_type": "execute_result"
    }
   ],
   "source": [
    "df6.price_per_sqft.describe()"
   ]
  },
  {
   "cell_type": "code",
   "execution_count": 37,
   "metadata": {},
   "outputs": [
    {
     "data": {
      "text/plain": [
       "<AxesSubplot:ylabel='Frequency'>"
      ]
     },
     "execution_count": 37,
     "metadata": {},
     "output_type": "execute_result"
    },
    {
     "data": {
      "image/png": "[encoded data removed]",
      "text/plain": [
       "<Figure size 1440x720 with 1 Axes>"
      ]
     },
     "metadata": {
      "needs_background": "light"
     },
     "output_type": "display_data"
    }
   ],
   "source": [
    "df6['price_per_sqft'].plot.hist()"
   ]
  },
  {
   "cell_type": "code",
   "execution_count": 38,
   "metadata": {},
   "outputs": [
    {
     "data": {
      "text/plain": [
       "<AxesSubplot:ylabel='Frequency'>"
      ]
     },
     "execution_count": 38,
     "metadata": {},
     "output_type": "execute_result"
    },
    {
     "data": {
      "image/png": "[encoded data removed]",
      "text/plain": [
       "<Figure size 1440x720 with 1 Axes>"
      ]
     },
     "metadata": {
      "needs_background": "light"
     },
     "output_type": "display_data"
    }
   ],
   "source": [
    "#df6.price_per_sqft.plot.hist()\n",
    "df6[(df6['price_per_sqft']<9000)]['price_per_sqft'].plot.hist()"
   ]
  },
  {
   "cell_type": "markdown",
   "metadata": {},
   "source": [
    "We can remove the values that are farther than three standard deviations away from the mean in either direction"
   ]
  },
  {
   "cell_type": "code",
   "execution_count": 39,
   "metadata": {},
   "outputs": [],
   "source": [
    "# This function removes apartments which have a price_per_sqft is more than 3 standard deviation above or below the mean per location\n",
    "\n",
    "def remove_ppsqft_outliers(df):\n",
    "    df_out = pd.DataFrame()\n",
    "    for key, subdf in df.groupby('location'):\n",
    "        mean = np.mean(subdf.price_per_sqft)\n",
    "        standard_div = np.std(subdf.price_per_sqft)\n",
    "        reduced_df = subdf[(subdf.price_per_sqft>=(mean-standard_div*3)) & (subdf.price_per_sqft<=(mean+standard_div*3))]\n",
    "        df_out = pd.concat([df_out, reduced_df], ignore_index=True)\n",
    "    return df_out"
   ]
  },
  {
   "cell_type": "code",
   "execution_count": 40,
   "metadata": {},
   "outputs": [
    {
     "data": {
      "text/plain": [
       "(12265, 7)"
      ]
     },
     "execution_count": 40,
     "metadata": {},
     "output_type": "execute_result"
    }
   ],
   "source": [
    "df7 = remove_ppsqft_outliers(df6)\n",
    "df7.shape"
   ]
  },
  {
   "cell_type": "markdown",
   "metadata": {},
   "source": [
    "We can also remove apartments whose price_per_sqft is larger than the mean price_per_sqft of apartments with 1 less room in the same location. For example, 3-bedroom apartments which are cheaper than the average 2-bedroom apartment in the same location."
   ]
  },
  {
   "cell_type": "code",
   "execution_count": 41,
   "metadata": {},
   "outputs": [],
   "source": [
    "# This function removes apartments whose price_per_sqft is larger than the mean price_per_sqft of apartments with 1 less room in the same location\n",
    "\n",
    "def remove_bhk_outliers(df):\n",
    "    exclude_indices = np.array([])\n",
    "    for location, location_df in df.groupby('location'):\n",
    "        bhk_stats = {}\n",
    "        for bhk, bhk_df in location_df.groupby('bhk'):\n",
    "            bhk_stats[bhk] = {\n",
    "                'mean': np.mean(bhk_df.price_per_sqft),\n",
    "                'std': np.std(bhk_df.price_per_sqft),\n",
    "                'count': bhk_df.shape[0]\n",
    "            }\n",
    "        for bhk, bhk_df in location_df.groupby('bhk'):\n",
    "            stats = bhk_stats.get(bhk-1)\n",
    "            if stats and stats['count']>5:\n",
    "                exclude_indices = np.append(exclude_indices, bhk_df[bhk_df.price_per_sqft<(stats['mean'])].index.values)\n",
    "    return df.drop(exclude_indices, axis='index')"
   ]
  },
  {
   "cell_type": "code",
   "execution_count": 42,
   "metadata": {},
   "outputs": [
    {
     "data": {
      "text/plain": [
       "(8640, 7)"
      ]
     },
     "execution_count": 42,
     "metadata": {},
     "output_type": "execute_result"
    }
   ],
   "source": [
    "df8 = remove_bhk_outliers(df7)\n",
    "df8.shape"
   ]
  },
  {
   "cell_type": "code",
   "execution_count": null,
   "metadata": {},
   "outputs": [],
   "source": []
  },
  {
   "cell_type": "code",
   "execution_count": 43,
   "metadata": {},
   "outputs": [
    {
     "data": {
      "text/plain": [
       "Text(0, 0.5, 'Count')"
      ]
     },
     "execution_count": 43,
     "metadata": {},
     "output_type": "execute_result"
    },
    {
     "data": {
      "image/png": "[encoded data removed]",
      "text/plain": [
       "<Figure size 1440x720 with 1 Axes>"
      ]
     },
     "metadata": {
      "needs_background": "light"
     },
     "output_type": "display_data"
    }
   ],
   "source": [
    "matplotlib.rcParams[\"figure.figsize\"] = (20,10)\n",
    "plt.hist(df8.price_per_sqft, rwidth=0.8)\n",
    "plt.xlabel('Price per square feet')\n",
    "plt.ylabel('Count')"
   ]
  },
  {
   "cell_type": "code",
   "execution_count": 44,
   "metadata": {},
   "outputs": [
    {
     "data": {
      "text/plain": [
       "array([ 2.,  3.,  4.,  5.,  7.,  1.,  8.,  6.,  9., 10., 12., 14., 16.,\n",
       "       13.])"
      ]
     },
     "execution_count": 44,
     "metadata": {},
     "output_type": "execute_result"
    }
   ],
   "source": [
    "df8.bath.unique()"
   ]
  },
  {
   "cell_type": "code",
   "execution_count": 46,
   "metadata": {},
   "outputs": [
    {
     "data": {
      "text/html": [
       "<div>\n",
       "<style scoped>\n",
       "    .dataframe tbody tr th:only-of-type {\n",
       "        vertical-align: middle;\n",
       "    }\n",
       "\n",
       "    .dataframe tbody tr th {\n",
       "        vertical-align: top;\n",
       "    }\n",
       "\n",
       "    .dataframe thead th {\n",
       "        text-align: right;\n",
       "    }\n",
       "</style>\n",
       "<table border=\"1\" class=\"dataframe\">\n",
       "  <thead>\n",
       "    <tr style=\"text-align: right;\">\n",
       "      <th></th>\n",
       "      <th>location</th>\n",
       "      <th>size</th>\n",
       "      <th>total_sqft</th>\n",
       "      <th>bath</th>\n",
       "      <th>price</th>\n",
       "      <th>bhk</th>\n",
       "      <th>price_per_sqft</th>\n",
       "    </tr>\n",
       "  </thead>\n",
       "  <tbody>\n",
       "    <tr>\n",
       "      <th>6485</th>\n",
       "      <td>Neeladri Nagar</td>\n",
       "      <td>10 BHK</td>\n",
       "      <td>4000.0</td>\n",
       "      <td>12.0</td>\n",
       "      <td>160.0</td>\n",
       "      <td>10</td>\n",
       "      <td>4000.000000</td>\n",
       "    </tr>\n",
       "    <tr>\n",
       "      <th>9960</th>\n",
       "      <td>other</td>\n",
       "      <td>9 Bedroom</td>\n",
       "      <td>3300.0</td>\n",
       "      <td>14.0</td>\n",
       "      <td>500.0</td>\n",
       "      <td>9</td>\n",
       "      <td>15151.515152</td>\n",
       "    </tr>\n",
       "    <tr>\n",
       "      <th>10432</th>\n",
       "      <td>other</td>\n",
       "      <td>16 BHK</td>\n",
       "      <td>10000.0</td>\n",
       "      <td>16.0</td>\n",
       "      <td>550.0</td>\n",
       "      <td>16</td>\n",
       "      <td>5500.000000</td>\n",
       "    </tr>\n",
       "    <tr>\n",
       "      <th>11251</th>\n",
       "      <td>other</td>\n",
       "      <td>11 BHK</td>\n",
       "      <td>6000.0</td>\n",
       "      <td>12.0</td>\n",
       "      <td>150.0</td>\n",
       "      <td>11</td>\n",
       "      <td>2500.000000</td>\n",
       "    </tr>\n",
       "    <tr>\n",
       "      <th>11617</th>\n",
       "      <td>other</td>\n",
       "      <td>13 BHK</td>\n",
       "      <td>5425.0</td>\n",
       "      <td>13.0</td>\n",
       "      <td>275.0</td>\n",
       "      <td>13</td>\n",
       "      <td>5069.124424</td>\n",
       "    </tr>\n",
       "  </tbody>\n",
       "</table>\n",
       "</div>"
      ],
      "text/plain": [
       "             location       size  total_sqft  bath  price  bhk  price_per_sqft\n",
       "6485   Neeladri Nagar     10 BHK      4000.0  12.0  160.0   10     4000.000000\n",
       "9960            other  9 Bedroom      3300.0  14.0  500.0    9    15151.515152\n",
       "10432           other     16 BHK     10000.0  16.0  550.0   16     5500.000000\n",
       "11251           other     11 BHK      6000.0  12.0  150.0   11     2500.000000\n",
       "11617           other     13 BHK      5425.0  13.0  275.0   13     5069.124424"
      ]
     },
     "execution_count": 46,
     "metadata": {},
     "output_type": "execute_result"
    }
   ],
   "source": [
    "df8[df8['bath']>10]"
   ]
  },
  {
   "cell_type": "code",
   "execution_count": 47,
   "metadata": {
    "scrolled": false
   },
   "outputs": [
    {
     "data": {
      "text/plain": [
       "<AxesSubplot:ylabel='Frequency'>"
      ]
     },
     "execution_count": 47,
     "metadata": {},
     "output_type": "execute_result"
    },
    {
     "data": {
      "image/png": "[encoded data removed]",
      "text/plain": [
       "<Figure size 1440x720 with 1 Axes>"
      ]
     },
     "metadata": {
      "needs_background": "light"
     },
     "output_type": "display_data"
    }
   ],
   "source": [
    "df8['bath'].plot.hist(rwidth=0.8)"
   ]
  },
  {
   "cell_type": "markdown",
   "metadata": {},
   "source": [
    "We can also remove the homes which have 2 more bathrooms than bedrooms as this is quite untypical and might even allude to erroneous data. "
   ]
  },
  {
   "cell_type": "code",
   "execution_count": 48,
   "metadata": {
    "scrolled": true
   },
   "outputs": [
    {
     "data": {
      "text/plain": [
       "(8523, 7)"
      ]
     },
     "execution_count": 48,
     "metadata": {},
     "output_type": "execute_result"
    }
   ],
   "source": [
    "# Remove apartments which have № of bathrooms greater the № of bedrooms + 2\n",
    "\n",
    "mask = df8['bath']<(df8['bhk']+2) # this should be <= as it would be normal to have the same number of baths as bedrooms but I am keeping it this way to be the same as the tutorial\n",
    "\n",
    "df9 = df8[mask]\n",
    "df9.shape"
   ]
  },
  {
   "cell_type": "code",
   "execution_count": 49,
   "metadata": {},
   "outputs": [
    {
     "data": {
      "text/html": [
       "<div>\n",
       "<style scoped>\n",
       "    .dataframe tbody tr th:only-of-type {\n",
       "        vertical-align: middle;\n",
       "    }\n",
       "\n",
       "    .dataframe tbody tr th {\n",
       "        vertical-align: top;\n",
       "    }\n",
       "\n",
       "    .dataframe thead th {\n",
       "        text-align: right;\n",
       "    }\n",
       "</style>\n",
       "<table border=\"1\" class=\"dataframe\">\n",
       "  <thead>\n",
       "    <tr style=\"text-align: right;\">\n",
       "      <th></th>\n",
       "      <th>location</th>\n",
       "      <th>size</th>\n",
       "      <th>total_sqft</th>\n",
       "      <th>bath</th>\n",
       "      <th>price</th>\n",
       "      <th>bhk</th>\n",
       "      <th>price_per_sqft</th>\n",
       "    </tr>\n",
       "  </thead>\n",
       "  <tbody>\n",
       "    <tr>\n",
       "      <th>1</th>\n",
       "      <td>Devarachikkanahalli</td>\n",
       "      <td>2 BHK</td>\n",
       "      <td>1250.0</td>\n",
       "      <td>2.0</td>\n",
       "      <td>40.0</td>\n",
       "      <td>2</td>\n",
       "      <td>3200.000000</td>\n",
       "    </tr>\n",
       "    <tr>\n",
       "      <th>2</th>\n",
       "      <td>Devarachikkanahalli</td>\n",
       "      <td>2 Bedroom</td>\n",
       "      <td>1200.0</td>\n",
       "      <td>2.0</td>\n",
       "      <td>83.0</td>\n",
       "      <td>2</td>\n",
       "      <td>6916.666667</td>\n",
       "    </tr>\n",
       "    <tr>\n",
       "      <th>3</th>\n",
       "      <td>Devarachikkanahalli</td>\n",
       "      <td>2 BHK</td>\n",
       "      <td>1170.0</td>\n",
       "      <td>2.0</td>\n",
       "      <td>40.0</td>\n",
       "      <td>2</td>\n",
       "      <td>3418.803419</td>\n",
       "    </tr>\n",
       "    <tr>\n",
       "      <th>4</th>\n",
       "      <td>Devarachikkanahalli</td>\n",
       "      <td>3 BHK</td>\n",
       "      <td>1425.0</td>\n",
       "      <td>2.0</td>\n",
       "      <td>65.0</td>\n",
       "      <td>3</td>\n",
       "      <td>4561.403509</td>\n",
       "    </tr>\n",
       "    <tr>\n",
       "      <th>5</th>\n",
       "      <td>Devarachikkanahalli</td>\n",
       "      <td>2 BHK</td>\n",
       "      <td>947.0</td>\n",
       "      <td>2.0</td>\n",
       "      <td>43.0</td>\n",
       "      <td>2</td>\n",
       "      <td>4540.654699</td>\n",
       "    </tr>\n",
       "  </tbody>\n",
       "</table>\n",
       "</div>"
      ],
      "text/plain": [
       "               location       size  total_sqft  bath  price  bhk  \\\n",
       "1   Devarachikkanahalli      2 BHK      1250.0   2.0   40.0    2   \n",
       "2   Devarachikkanahalli  2 Bedroom      1200.0   2.0   83.0    2   \n",
       "3   Devarachikkanahalli      2 BHK      1170.0   2.0   40.0    2   \n",
       "4   Devarachikkanahalli      3 BHK      1425.0   2.0   65.0    3   \n",
       "5   Devarachikkanahalli      2 BHK       947.0   2.0   43.0    2   \n",
       "\n",
       "   price_per_sqft  \n",
       "1     3200.000000  \n",
       "2     6916.666667  \n",
       "3     3418.803419  \n",
       "4     4561.403509  \n",
       "5     4540.654699  "
      ]
     },
     "execution_count": 49,
     "metadata": {},
     "output_type": "execute_result"
    }
   ],
   "source": [
    "df9.head()"
   ]
  },
  {
   "cell_type": "code",
   "execution_count": 50,
   "metadata": {
    "scrolled": true
   },
   "outputs": [
    {
     "data": {
      "text/html": [
       "<div>\n",
       "<style scoped>\n",
       "    .dataframe tbody tr th:only-of-type {\n",
       "        vertical-align: middle;\n",
       "    }\n",
       "\n",
       "    .dataframe tbody tr th {\n",
       "        vertical-align: top;\n",
       "    }\n",
       "\n",
       "    .dataframe thead th {\n",
       "        text-align: right;\n",
       "    }\n",
       "</style>\n",
       "<table border=\"1\" class=\"dataframe\">\n",
       "  <thead>\n",
       "    <tr style=\"text-align: right;\">\n",
       "      <th></th>\n",
       "      <th>location</th>\n",
       "      <th>total_sqft</th>\n",
       "      <th>bath</th>\n",
       "      <th>price</th>\n",
       "      <th>bhk</th>\n",
       "    </tr>\n",
       "  </thead>\n",
       "  <tbody>\n",
       "    <tr>\n",
       "      <th>1</th>\n",
       "      <td>Devarachikkanahalli</td>\n",
       "      <td>1250.0</td>\n",
       "      <td>2.0</td>\n",
       "      <td>40.0</td>\n",
       "      <td>2</td>\n",
       "    </tr>\n",
       "    <tr>\n",
       "      <th>2</th>\n",
       "      <td>Devarachikkanahalli</td>\n",
       "      <td>1200.0</td>\n",
       "      <td>2.0</td>\n",
       "      <td>83.0</td>\n",
       "      <td>2</td>\n",
       "    </tr>\n",
       "    <tr>\n",
       "      <th>3</th>\n",
       "      <td>Devarachikkanahalli</td>\n",
       "      <td>1170.0</td>\n",
       "      <td>2.0</td>\n",
       "      <td>40.0</td>\n",
       "      <td>2</td>\n",
       "    </tr>\n",
       "    <tr>\n",
       "      <th>4</th>\n",
       "      <td>Devarachikkanahalli</td>\n",
       "      <td>1425.0</td>\n",
       "      <td>2.0</td>\n",
       "      <td>65.0</td>\n",
       "      <td>3</td>\n",
       "    </tr>\n",
       "    <tr>\n",
       "      <th>5</th>\n",
       "      <td>Devarachikkanahalli</td>\n",
       "      <td>947.0</td>\n",
       "      <td>2.0</td>\n",
       "      <td>43.0</td>\n",
       "      <td>2</td>\n",
       "    </tr>\n",
       "  </tbody>\n",
       "</table>\n",
       "</div>"
      ],
      "text/plain": [
       "               location  total_sqft  bath  price  bhk\n",
       "1   Devarachikkanahalli      1250.0   2.0   40.0    2\n",
       "2   Devarachikkanahalli      1200.0   2.0   83.0    2\n",
       "3   Devarachikkanahalli      1170.0   2.0   40.0    2\n",
       "4   Devarachikkanahalli      1425.0   2.0   65.0    3\n",
       "5   Devarachikkanahalli       947.0   2.0   43.0    2"
      ]
     },
     "execution_count": 50,
     "metadata": {},
     "output_type": "execute_result"
    }
   ],
   "source": [
    "df10 = df9.drop(['size', 'price_per_sqft'], axis='columns')\n",
    "df10.head()"
   ]
  },
  {
   "cell_type": "markdown",
   "metadata": {},
   "source": [
    "## Creating dummy variables for location"
   ]
  },
  {
   "cell_type": "code",
   "execution_count": 51,
   "metadata": {},
   "outputs": [
    {
     "data": {
      "text/html": [
       "<div>\n",
       "<style scoped>\n",
       "    .dataframe tbody tr th:only-of-type {\n",
       "        vertical-align: middle;\n",
       "    }\n",
       "\n",
       "    .dataframe tbody tr th {\n",
       "        vertical-align: top;\n",
       "    }\n",
       "\n",
       "    .dataframe thead th {\n",
       "        text-align: right;\n",
       "    }\n",
       "</style>\n",
       "<table border=\"1\" class=\"dataframe\">\n",
       "  <thead>\n",
       "    <tr style=\"text-align: right;\">\n",
       "      <th></th>\n",
       "      <th>Devarachikkanahalli</th>\n",
       "      <th>1st Block Jayanagar</th>\n",
       "      <th>1st Phase JP Nagar</th>\n",
       "      <th>2nd Phase Judicial Layout</th>\n",
       "      <th>2nd Stage Nagarbhavi</th>\n",
       "      <th>5th Block Hbr Layout</th>\n",
       "      <th>5th Phase JP Nagar</th>\n",
       "      <th>6th Phase JP Nagar</th>\n",
       "      <th>7th Phase JP Nagar</th>\n",
       "      <th>8th Phase JP Nagar</th>\n",
       "      <th>...</th>\n",
       "      <th>Vishveshwarya Layout</th>\n",
       "      <th>Vishwapriya Layout</th>\n",
       "      <th>Vittasandra</th>\n",
       "      <th>Whitefield</th>\n",
       "      <th>Yelachenahalli</th>\n",
       "      <th>Yelahanka</th>\n",
       "      <th>Yelahanka New Town</th>\n",
       "      <th>Yelenahalli</th>\n",
       "      <th>Yeshwanthpur</th>\n",
       "      <th>other</th>\n",
       "    </tr>\n",
       "  </thead>\n",
       "  <tbody>\n",
       "    <tr>\n",
       "      <th>1</th>\n",
       "      <td>1</td>\n",
       "      <td>0</td>\n",
       "      <td>0</td>\n",
       "      <td>0</td>\n",
       "      <td>0</td>\n",
       "      <td>0</td>\n",
       "      <td>0</td>\n",
       "      <td>0</td>\n",
       "      <td>0</td>\n",
       "      <td>0</td>\n",
       "      <td>...</td>\n",
       "      <td>0</td>\n",
       "      <td>0</td>\n",
       "      <td>0</td>\n",
       "      <td>0</td>\n",
       "      <td>0</td>\n",
       "      <td>0</td>\n",
       "      <td>0</td>\n",
       "      <td>0</td>\n",
       "      <td>0</td>\n",
       "      <td>0</td>\n",
       "    </tr>\n",
       "    <tr>\n",
       "      <th>2</th>\n",
       "      <td>1</td>\n",
       "      <td>0</td>\n",
       "      <td>0</td>\n",
       "      <td>0</td>\n",
       "      <td>0</td>\n",
       "      <td>0</td>\n",
       "      <td>0</td>\n",
       "      <td>0</td>\n",
       "      <td>0</td>\n",
       "      <td>0</td>\n",
       "      <td>...</td>\n",
       "      <td>0</td>\n",
       "      <td>0</td>\n",
       "      <td>0</td>\n",
       "      <td>0</td>\n",
       "      <td>0</td>\n",
       "      <td>0</td>\n",
       "      <td>0</td>\n",
       "      <td>0</td>\n",
       "      <td>0</td>\n",
       "      <td>0</td>\n",
       "    </tr>\n",
       "    <tr>\n",
       "      <th>3</th>\n",
       "      <td>1</td>\n",
       "      <td>0</td>\n",
       "      <td>0</td>\n",
       "      <td>0</td>\n",
       "      <td>0</td>\n",
       "      <td>0</td>\n",
       "      <td>0</td>\n",
       "      <td>0</td>\n",
       "      <td>0</td>\n",
       "      <td>0</td>\n",
       "      <td>...</td>\n",
       "      <td>0</td>\n",
       "      <td>0</td>\n",
       "      <td>0</td>\n",
       "      <td>0</td>\n",
       "      <td>0</td>\n",
       "      <td>0</td>\n",
       "      <td>0</td>\n",
       "      <td>0</td>\n",
       "      <td>0</td>\n",
       "      <td>0</td>\n",
       "    </tr>\n",
       "    <tr>\n",
       "      <th>4</th>\n",
       "      <td>1</td>\n",
       "      <td>0</td>\n",
       "      <td>0</td>\n",
       "      <td>0</td>\n",
       "      <td>0</td>\n",
       "      <td>0</td>\n",
       "      <td>0</td>\n",
       "      <td>0</td>\n",
       "      <td>0</td>\n",
       "      <td>0</td>\n",
       "      <td>...</td>\n",
       "      <td>0</td>\n",
       "      <td>0</td>\n",
       "      <td>0</td>\n",
       "      <td>0</td>\n",
       "      <td>0</td>\n",
       "      <td>0</td>\n",
       "      <td>0</td>\n",
       "      <td>0</td>\n",
       "      <td>0</td>\n",
       "      <td>0</td>\n",
       "    </tr>\n",
       "    <tr>\n",
       "      <th>5</th>\n",
       "      <td>1</td>\n",
       "      <td>0</td>\n",
       "      <td>0</td>\n",
       "      <td>0</td>\n",
       "      <td>0</td>\n",
       "      <td>0</td>\n",
       "      <td>0</td>\n",
       "      <td>0</td>\n",
       "      <td>0</td>\n",
       "      <td>0</td>\n",
       "      <td>...</td>\n",
       "      <td>0</td>\n",
       "      <td>0</td>\n",
       "      <td>0</td>\n",
       "      <td>0</td>\n",
       "      <td>0</td>\n",
       "      <td>0</td>\n",
       "      <td>0</td>\n",
       "      <td>0</td>\n",
       "      <td>0</td>\n",
       "      <td>0</td>\n",
       "    </tr>\n",
       "  </tbody>\n",
       "</table>\n",
       "<p>5 rows × 242 columns</p>\n",
       "</div>"
      ],
      "text/plain": [
       "    Devarachikkanahalli  1st Block Jayanagar  1st Phase JP Nagar  \\\n",
       "1                     1                    0                   0   \n",
       "2                     1                    0                   0   \n",
       "3                     1                    0                   0   \n",
       "4                     1                    0                   0   \n",
       "5                     1                    0                   0   \n",
       "\n",
       "   2nd Phase Judicial Layout  2nd Stage Nagarbhavi  5th Block Hbr Layout  \\\n",
       "1                          0                     0                     0   \n",
       "2                          0                     0                     0   \n",
       "3                          0                     0                     0   \n",
       "4                          0                     0                     0   \n",
       "5                          0                     0                     0   \n",
       "\n",
       "   5th Phase JP Nagar  6th Phase JP Nagar  7th Phase JP Nagar  \\\n",
       "1                   0                   0                   0   \n",
       "2                   0                   0                   0   \n",
       "3                   0                   0                   0   \n",
       "4                   0                   0                   0   \n",
       "5                   0                   0                   0   \n",
       "\n",
       "   8th Phase JP Nagar  ...  Vishveshwarya Layout  Vishwapriya Layout  \\\n",
       "1                   0  ...                     0                   0   \n",
       "2                   0  ...                     0                   0   \n",
       "3                   0  ...                     0                   0   \n",
       "4                   0  ...                     0                   0   \n",
       "5                   0  ...                     0                   0   \n",
       "\n",
       "   Vittasandra  Whitefield  Yelachenahalli  Yelahanka  Yelahanka New Town  \\\n",
       "1            0           0               0          0                   0   \n",
       "2            0           0               0          0                   0   \n",
       "3            0           0               0          0                   0   \n",
       "4            0           0               0          0                   0   \n",
       "5            0           0               0          0                   0   \n",
       "\n",
       "   Yelenahalli  Yeshwanthpur  other  \n",
       "1            0             0      0  \n",
       "2            0             0      0  \n",
       "3            0             0      0  \n",
       "4            0             0      0  \n",
       "5            0             0      0  \n",
       "\n",
       "[5 rows x 242 columns]"
      ]
     },
     "execution_count": 51,
     "metadata": {},
     "output_type": "execute_result"
    }
   ],
   "source": [
    "dummies = pd.get_dummies(df10.location)\n",
    "dummies.head()"
   ]
  },
  {
   "cell_type": "code",
   "execution_count": 52,
   "metadata": {},
   "outputs": [
    {
     "data": {
      "text/html": [
       "<div>\n",
       "<style scoped>\n",
       "    .dataframe tbody tr th:only-of-type {\n",
       "        vertical-align: middle;\n",
       "    }\n",
       "\n",
       "    .dataframe tbody tr th {\n",
       "        vertical-align: top;\n",
       "    }\n",
       "\n",
       "    .dataframe thead th {\n",
       "        text-align: right;\n",
       "    }\n",
       "</style>\n",
       "<table border=\"1\" class=\"dataframe\">\n",
       "  <thead>\n",
       "    <tr style=\"text-align: right;\">\n",
       "      <th></th>\n",
       "      <th>location</th>\n",
       "      <th>total_sqft</th>\n",
       "      <th>bath</th>\n",
       "      <th>price</th>\n",
       "      <th>bhk</th>\n",
       "      <th>Devarachikkanahalli</th>\n",
       "      <th>1st Block Jayanagar</th>\n",
       "      <th>1st Phase JP Nagar</th>\n",
       "      <th>2nd Phase Judicial Layout</th>\n",
       "      <th>2nd Stage Nagarbhavi</th>\n",
       "      <th>...</th>\n",
       "      <th>Vijayanagar</th>\n",
       "      <th>Vishveshwarya Layout</th>\n",
       "      <th>Vishwapriya Layout</th>\n",
       "      <th>Vittasandra</th>\n",
       "      <th>Whitefield</th>\n",
       "      <th>Yelachenahalli</th>\n",
       "      <th>Yelahanka</th>\n",
       "      <th>Yelahanka New Town</th>\n",
       "      <th>Yelenahalli</th>\n",
       "      <th>Yeshwanthpur</th>\n",
       "    </tr>\n",
       "  </thead>\n",
       "  <tbody>\n",
       "    <tr>\n",
       "      <th>1</th>\n",
       "      <td>Devarachikkanahalli</td>\n",
       "      <td>1250.0</td>\n",
       "      <td>2.0</td>\n",
       "      <td>40.0</td>\n",
       "      <td>2</td>\n",
       "      <td>1</td>\n",
       "      <td>0</td>\n",
       "      <td>0</td>\n",
       "      <td>0</td>\n",
       "      <td>0</td>\n",
       "      <td>...</td>\n",
       "      <td>0</td>\n",
       "      <td>0</td>\n",
       "      <td>0</td>\n",
       "      <td>0</td>\n",
       "      <td>0</td>\n",
       "      <td>0</td>\n",
       "      <td>0</td>\n",
       "      <td>0</td>\n",
       "      <td>0</td>\n",
       "      <td>0</td>\n",
       "    </tr>\n",
       "    <tr>\n",
       "      <th>2</th>\n",
       "      <td>Devarachikkanahalli</td>\n",
       "      <td>1200.0</td>\n",
       "      <td>2.0</td>\n",
       "      <td>83.0</td>\n",
       "      <td>2</td>\n",
       "      <td>1</td>\n",
       "      <td>0</td>\n",
       "      <td>0</td>\n",
       "      <td>0</td>\n",
       "      <td>0</td>\n",
       "      <td>...</td>\n",
       "      <td>0</td>\n",
       "      <td>0</td>\n",
       "      <td>0</td>\n",
       "      <td>0</td>\n",
       "      <td>0</td>\n",
       "      <td>0</td>\n",
       "      <td>0</td>\n",
       "      <td>0</td>\n",
       "      <td>0</td>\n",
       "      <td>0</td>\n",
       "    </tr>\n",
       "    <tr>\n",
       "      <th>3</th>\n",
       "      <td>Devarachikkanahalli</td>\n",
       "      <td>1170.0</td>\n",
       "      <td>2.0</td>\n",
       "      <td>40.0</td>\n",
       "      <td>2</td>\n",
       "      <td>1</td>\n",
       "      <td>0</td>\n",
       "      <td>0</td>\n",
       "      <td>0</td>\n",
       "      <td>0</td>\n",
       "      <td>...</td>\n",
       "      <td>0</td>\n",
       "      <td>0</td>\n",
       "      <td>0</td>\n",
       "      <td>0</td>\n",
       "      <td>0</td>\n",
       "      <td>0</td>\n",
       "      <td>0</td>\n",
       "      <td>0</td>\n",
       "      <td>0</td>\n",
       "      <td>0</td>\n",
       "    </tr>\n",
       "  </tbody>\n",
       "</table>\n",
       "<p>3 rows × 246 columns</p>\n",
       "</div>"
      ],
      "text/plain": [
       "               location  total_sqft  bath  price  bhk   Devarachikkanahalli  \\\n",
       "1   Devarachikkanahalli      1250.0   2.0   40.0    2                     1   \n",
       "2   Devarachikkanahalli      1200.0   2.0   83.0    2                     1   \n",
       "3   Devarachikkanahalli      1170.0   2.0   40.0    2                     1   \n",
       "\n",
       "   1st Block Jayanagar  1st Phase JP Nagar  2nd Phase Judicial Layout  \\\n",
       "1                    0                   0                          0   \n",
       "2                    0                   0                          0   \n",
       "3                    0                   0                          0   \n",
       "\n",
       "   2nd Stage Nagarbhavi  ...  Vijayanagar  Vishveshwarya Layout  \\\n",
       "1                     0  ...            0                     0   \n",
       "2                     0  ...            0                     0   \n",
       "3                     0  ...            0                     0   \n",
       "\n",
       "   Vishwapriya Layout  Vittasandra  Whitefield  Yelachenahalli  Yelahanka  \\\n",
       "1                   0            0           0               0          0   \n",
       "2                   0            0           0               0          0   \n",
       "3                   0            0           0               0          0   \n",
       "\n",
       "   Yelahanka New Town  Yelenahalli  Yeshwanthpur  \n",
       "1                   0            0             0  \n",
       "2                   0            0             0  \n",
       "3                   0            0             0  \n",
       "\n",
       "[3 rows x 246 columns]"
      ]
     },
     "execution_count": 52,
     "metadata": {},
     "output_type": "execute_result"
    }
   ],
   "source": [
    "df11 = pd.concat([df10, dummies.drop('other', axis='columns')], axis='columns') # other will be our reference category\n",
    "df11.head(3)"
   ]
  },
  {
   "cell_type": "code",
   "execution_count": 53,
   "metadata": {},
   "outputs": [
    {
     "data": {
      "text/html": [
       "<div>\n",
       "<style scoped>\n",
       "    .dataframe tbody tr th:only-of-type {\n",
       "        vertical-align: middle;\n",
       "    }\n",
       "\n",
       "    .dataframe tbody tr th {\n",
       "        vertical-align: top;\n",
       "    }\n",
       "\n",
       "    .dataframe thead th {\n",
       "        text-align: right;\n",
       "    }\n",
       "</style>\n",
       "<table border=\"1\" class=\"dataframe\">\n",
       "  <thead>\n",
       "    <tr style=\"text-align: right;\">\n",
       "      <th></th>\n",
       "      <th>total_sqft</th>\n",
       "      <th>bath</th>\n",
       "      <th>price</th>\n",
       "      <th>bhk</th>\n",
       "      <th>Devarachikkanahalli</th>\n",
       "      <th>1st Block Jayanagar</th>\n",
       "      <th>1st Phase JP Nagar</th>\n",
       "      <th>2nd Phase Judicial Layout</th>\n",
       "      <th>2nd Stage Nagarbhavi</th>\n",
       "      <th>5th Block Hbr Layout</th>\n",
       "      <th>...</th>\n",
       "      <th>Vijayanagar</th>\n",
       "      <th>Vishveshwarya Layout</th>\n",
       "      <th>Vishwapriya Layout</th>\n",
       "      <th>Vittasandra</th>\n",
       "      <th>Whitefield</th>\n",
       "      <th>Yelachenahalli</th>\n",
       "      <th>Yelahanka</th>\n",
       "      <th>Yelahanka New Town</th>\n",
       "      <th>Yelenahalli</th>\n",
       "      <th>Yeshwanthpur</th>\n",
       "    </tr>\n",
       "  </thead>\n",
       "  <tbody>\n",
       "    <tr>\n",
       "      <th>1</th>\n",
       "      <td>1250.0</td>\n",
       "      <td>2.0</td>\n",
       "      <td>40.0</td>\n",
       "      <td>2</td>\n",
       "      <td>1</td>\n",
       "      <td>0</td>\n",
       "      <td>0</td>\n",
       "      <td>0</td>\n",
       "      <td>0</td>\n",
       "      <td>0</td>\n",
       "      <td>...</td>\n",
       "      <td>0</td>\n",
       "      <td>0</td>\n",
       "      <td>0</td>\n",
       "      <td>0</td>\n",
       "      <td>0</td>\n",
       "      <td>0</td>\n",
       "      <td>0</td>\n",
       "      <td>0</td>\n",
       "      <td>0</td>\n",
       "      <td>0</td>\n",
       "    </tr>\n",
       "    <tr>\n",
       "      <th>2</th>\n",
       "      <td>1200.0</td>\n",
       "      <td>2.0</td>\n",
       "      <td>83.0</td>\n",
       "      <td>2</td>\n",
       "      <td>1</td>\n",
       "      <td>0</td>\n",
       "      <td>0</td>\n",
       "      <td>0</td>\n",
       "      <td>0</td>\n",
       "      <td>0</td>\n",
       "      <td>...</td>\n",
       "      <td>0</td>\n",
       "      <td>0</td>\n",
       "      <td>0</td>\n",
       "      <td>0</td>\n",
       "      <td>0</td>\n",
       "      <td>0</td>\n",
       "      <td>0</td>\n",
       "      <td>0</td>\n",
       "      <td>0</td>\n",
       "      <td>0</td>\n",
       "    </tr>\n",
       "    <tr>\n",
       "      <th>3</th>\n",
       "      <td>1170.0</td>\n",
       "      <td>2.0</td>\n",
       "      <td>40.0</td>\n",
       "      <td>2</td>\n",
       "      <td>1</td>\n",
       "      <td>0</td>\n",
       "      <td>0</td>\n",
       "      <td>0</td>\n",
       "      <td>0</td>\n",
       "      <td>0</td>\n",
       "      <td>...</td>\n",
       "      <td>0</td>\n",
       "      <td>0</td>\n",
       "      <td>0</td>\n",
       "      <td>0</td>\n",
       "      <td>0</td>\n",
       "      <td>0</td>\n",
       "      <td>0</td>\n",
       "      <td>0</td>\n",
       "      <td>0</td>\n",
       "      <td>0</td>\n",
       "    </tr>\n",
       "    <tr>\n",
       "      <th>4</th>\n",
       "      <td>1425.0</td>\n",
       "      <td>2.0</td>\n",
       "      <td>65.0</td>\n",
       "      <td>3</td>\n",
       "      <td>1</td>\n",
       "      <td>0</td>\n",
       "      <td>0</td>\n",
       "      <td>0</td>\n",
       "      <td>0</td>\n",
       "      <td>0</td>\n",
       "      <td>...</td>\n",
       "      <td>0</td>\n",
       "      <td>0</td>\n",
       "      <td>0</td>\n",
       "      <td>0</td>\n",
       "      <td>0</td>\n",
       "      <td>0</td>\n",
       "      <td>0</td>\n",
       "      <td>0</td>\n",
       "      <td>0</td>\n",
       "      <td>0</td>\n",
       "    </tr>\n",
       "    <tr>\n",
       "      <th>5</th>\n",
       "      <td>947.0</td>\n",
       "      <td>2.0</td>\n",
       "      <td>43.0</td>\n",
       "      <td>2</td>\n",
       "      <td>1</td>\n",
       "      <td>0</td>\n",
       "      <td>0</td>\n",
       "      <td>0</td>\n",
       "      <td>0</td>\n",
       "      <td>0</td>\n",
       "      <td>...</td>\n",
       "      <td>0</td>\n",
       "      <td>0</td>\n",
       "      <td>0</td>\n",
       "      <td>0</td>\n",
       "      <td>0</td>\n",
       "      <td>0</td>\n",
       "      <td>0</td>\n",
       "      <td>0</td>\n",
       "      <td>0</td>\n",
       "      <td>0</td>\n",
       "    </tr>\n",
       "  </tbody>\n",
       "</table>\n",
       "<p>5 rows × 245 columns</p>\n",
       "</div>"
      ],
      "text/plain": [
       "   total_sqft  bath  price  bhk   Devarachikkanahalli  1st Block Jayanagar  \\\n",
       "1      1250.0   2.0   40.0    2                     1                    0   \n",
       "2      1200.0   2.0   83.0    2                     1                    0   \n",
       "3      1170.0   2.0   40.0    2                     1                    0   \n",
       "4      1425.0   2.0   65.0    3                     1                    0   \n",
       "5       947.0   2.0   43.0    2                     1                    0   \n",
       "\n",
       "   1st Phase JP Nagar  2nd Phase Judicial Layout  2nd Stage Nagarbhavi  \\\n",
       "1                   0                          0                     0   \n",
       "2                   0                          0                     0   \n",
       "3                   0                          0                     0   \n",
       "4                   0                          0                     0   \n",
       "5                   0                          0                     0   \n",
       "\n",
       "   5th Block Hbr Layout  ...  Vijayanagar  Vishveshwarya Layout  \\\n",
       "1                     0  ...            0                     0   \n",
       "2                     0  ...            0                     0   \n",
       "3                     0  ...            0                     0   \n",
       "4                     0  ...            0                     0   \n",
       "5                     0  ...            0                     0   \n",
       "\n",
       "   Vishwapriya Layout  Vittasandra  Whitefield  Yelachenahalli  Yelahanka  \\\n",
       "1                   0            0           0               0          0   \n",
       "2                   0            0           0               0          0   \n",
       "3                   0            0           0               0          0   \n",
       "4                   0            0           0               0          0   \n",
       "5                   0            0           0               0          0   \n",
       "\n",
       "   Yelahanka New Town  Yelenahalli  Yeshwanthpur  \n",
       "1                   0            0             0  \n",
       "2                   0            0             0  \n",
       "3                   0            0             0  \n",
       "4                   0            0             0  \n",
       "5                   0            0             0  \n",
       "\n",
       "[5 rows x 245 columns]"
      ]
     },
     "execution_count": 53,
     "metadata": {},
     "output_type": "execute_result"
    }
   ],
   "source": [
    "df12 = df11.drop('location', axis='columns')\n",
    "df12.head()"
   ]
  },
  {
   "cell_type": "code",
   "execution_count": 54,
   "metadata": {},
   "outputs": [
    {
     "data": {
      "text/plain": [
       "(8523, 245)"
      ]
     },
     "execution_count": 54,
     "metadata": {},
     "output_type": "execute_result"
    }
   ],
   "source": [
    "df12.shape"
   ]
  },
  {
   "cell_type": "markdown",
   "metadata": {},
   "source": [
    "# Modelling"
   ]
  },
  {
   "cell_type": "code",
   "execution_count": 55,
   "metadata": {},
   "outputs": [
    {
     "data": {
      "text/html": [
       "<div>\n",
       "<style scoped>\n",
       "    .dataframe tbody tr th:only-of-type {\n",
       "        vertical-align: middle;\n",
       "    }\n",
       "\n",
       "    .dataframe tbody tr th {\n",
       "        vertical-align: top;\n",
       "    }\n",
       "\n",
       "    .dataframe thead th {\n",
       "        text-align: right;\n",
       "    }\n",
       "</style>\n",
       "<table border=\"1\" class=\"dataframe\">\n",
       "  <thead>\n",
       "    <tr style=\"text-align: right;\">\n",
       "      <th></th>\n",
       "      <th>total_sqft</th>\n",
       "      <th>bath</th>\n",
       "      <th>bhk</th>\n",
       "      <th>Devarachikkanahalli</th>\n",
       "      <th>1st Block Jayanagar</th>\n",
       "      <th>1st Phase JP Nagar</th>\n",
       "      <th>2nd Phase Judicial Layout</th>\n",
       "      <th>2nd Stage Nagarbhavi</th>\n",
       "      <th>5th Block Hbr Layout</th>\n",
       "      <th>5th Phase JP Nagar</th>\n",
       "      <th>...</th>\n",
       "      <th>Vijayanagar</th>\n",
       "      <th>Vishveshwarya Layout</th>\n",
       "      <th>Vishwapriya Layout</th>\n",
       "      <th>Vittasandra</th>\n",
       "      <th>Whitefield</th>\n",
       "      <th>Yelachenahalli</th>\n",
       "      <th>Yelahanka</th>\n",
       "      <th>Yelahanka New Town</th>\n",
       "      <th>Yelenahalli</th>\n",
       "      <th>Yeshwanthpur</th>\n",
       "    </tr>\n",
       "  </thead>\n",
       "  <tbody>\n",
       "    <tr>\n",
       "      <th>1</th>\n",
       "      <td>1250.0</td>\n",
       "      <td>2.0</td>\n",
       "      <td>2</td>\n",
       "      <td>1</td>\n",
       "      <td>0</td>\n",
       "      <td>0</td>\n",
       "      <td>0</td>\n",
       "      <td>0</td>\n",
       "      <td>0</td>\n",
       "      <td>0</td>\n",
       "      <td>...</td>\n",
       "      <td>0</td>\n",
       "      <td>0</td>\n",
       "      <td>0</td>\n",
       "      <td>0</td>\n",
       "      <td>0</td>\n",
       "      <td>0</td>\n",
       "      <td>0</td>\n",
       "      <td>0</td>\n",
       "      <td>0</td>\n",
       "      <td>0</td>\n",
       "    </tr>\n",
       "    <tr>\n",
       "      <th>2</th>\n",
       "      <td>1200.0</td>\n",
       "      <td>2.0</td>\n",
       "      <td>2</td>\n",
       "      <td>1</td>\n",
       "      <td>0</td>\n",
       "      <td>0</td>\n",
       "      <td>0</td>\n",
       "      <td>0</td>\n",
       "      <td>0</td>\n",
       "      <td>0</td>\n",
       "      <td>...</td>\n",
       "      <td>0</td>\n",
       "      <td>0</td>\n",
       "      <td>0</td>\n",
       "      <td>0</td>\n",
       "      <td>0</td>\n",
       "      <td>0</td>\n",
       "      <td>0</td>\n",
       "      <td>0</td>\n",
       "      <td>0</td>\n",
       "      <td>0</td>\n",
       "    </tr>\n",
       "    <tr>\n",
       "      <th>3</th>\n",
       "      <td>1170.0</td>\n",
       "      <td>2.0</td>\n",
       "      <td>2</td>\n",
       "      <td>1</td>\n",
       "      <td>0</td>\n",
       "      <td>0</td>\n",
       "      <td>0</td>\n",
       "      <td>0</td>\n",
       "      <td>0</td>\n",
       "      <td>0</td>\n",
       "      <td>...</td>\n",
       "      <td>0</td>\n",
       "      <td>0</td>\n",
       "      <td>0</td>\n",
       "      <td>0</td>\n",
       "      <td>0</td>\n",
       "      <td>0</td>\n",
       "      <td>0</td>\n",
       "      <td>0</td>\n",
       "      <td>0</td>\n",
       "      <td>0</td>\n",
       "    </tr>\n",
       "    <tr>\n",
       "      <th>4</th>\n",
       "      <td>1425.0</td>\n",
       "      <td>2.0</td>\n",
       "      <td>3</td>\n",
       "      <td>1</td>\n",
       "      <td>0</td>\n",
       "      <td>0</td>\n",
       "      <td>0</td>\n",
       "      <td>0</td>\n",
       "      <td>0</td>\n",
       "      <td>0</td>\n",
       "      <td>...</td>\n",
       "      <td>0</td>\n",
       "      <td>0</td>\n",
       "      <td>0</td>\n",
       "      <td>0</td>\n",
       "      <td>0</td>\n",
       "      <td>0</td>\n",
       "      <td>0</td>\n",
       "      <td>0</td>\n",
       "      <td>0</td>\n",
       "      <td>0</td>\n",
       "    </tr>\n",
       "    <tr>\n",
       "      <th>5</th>\n",
       "      <td>947.0</td>\n",
       "      <td>2.0</td>\n",
       "      <td>2</td>\n",
       "      <td>1</td>\n",
       "      <td>0</td>\n",
       "      <td>0</td>\n",
       "      <td>0</td>\n",
       "      <td>0</td>\n",
       "      <td>0</td>\n",
       "      <td>0</td>\n",
       "      <td>...</td>\n",
       "      <td>0</td>\n",
       "      <td>0</td>\n",
       "      <td>0</td>\n",
       "      <td>0</td>\n",
       "      <td>0</td>\n",
       "      <td>0</td>\n",
       "      <td>0</td>\n",
       "      <td>0</td>\n",
       "      <td>0</td>\n",
       "      <td>0</td>\n",
       "    </tr>\n",
       "  </tbody>\n",
       "</table>\n",
       "<p>5 rows × 244 columns</p>\n",
       "</div>"
      ],
      "text/plain": [
       "   total_sqft  bath  bhk   Devarachikkanahalli  1st Block Jayanagar  \\\n",
       "1      1250.0   2.0    2                     1                    0   \n",
       "2      1200.0   2.0    2                     1                    0   \n",
       "3      1170.0   2.0    2                     1                    0   \n",
       "4      1425.0   2.0    3                     1                    0   \n",
       "5       947.0   2.0    2                     1                    0   \n",
       "\n",
       "   1st Phase JP Nagar  2nd Phase Judicial Layout  2nd Stage Nagarbhavi  \\\n",
       "1                   0                          0                     0   \n",
       "2                   0                          0                     0   \n",
       "3                   0                          0                     0   \n",
       "4                   0                          0                     0   \n",
       "5                   0                          0                     0   \n",
       "\n",
       "   5th Block Hbr Layout  5th Phase JP Nagar  ...  Vijayanagar  \\\n",
       "1                     0                   0  ...            0   \n",
       "2                     0                   0  ...            0   \n",
       "3                     0                   0  ...            0   \n",
       "4                     0                   0  ...            0   \n",
       "5                     0                   0  ...            0   \n",
       "\n",
       "   Vishveshwarya Layout  Vishwapriya Layout  Vittasandra  Whitefield  \\\n",
       "1                     0                   0            0           0   \n",
       "2                     0                   0            0           0   \n",
       "3                     0                   0            0           0   \n",
       "4                     0                   0            0           0   \n",
       "5                     0                   0            0           0   \n",
       "\n",
       "   Yelachenahalli  Yelahanka  Yelahanka New Town  Yelenahalli  Yeshwanthpur  \n",
       "1               0          0                   0            0             0  \n",
       "2               0          0                   0            0             0  \n",
       "3               0          0                   0            0             0  \n",
       "4               0          0                   0            0             0  \n",
       "5               0          0                   0            0             0  \n",
       "\n",
       "[5 rows x 244 columns]"
      ]
     },
     "execution_count": 55,
     "metadata": {},
     "output_type": "execute_result"
    }
   ],
   "source": [
    "X = df12.drop('price', axis='columns')\n",
    "X.head()"
   ]
  },
  {
   "cell_type": "code",
   "execution_count": 56,
   "metadata": {},
   "outputs": [
    {
     "data": {
      "text/plain": [
       "1    40.0\n",
       "2    83.0\n",
       "3    40.0\n",
       "4    65.0\n",
       "5    43.0\n",
       "Name: price, dtype: float64"
      ]
     },
     "execution_count": 56,
     "metadata": {},
     "output_type": "execute_result"
    }
   ],
   "source": [
    "y = df12.price\n",
    "y.head()"
   ]
  },
  {
   "cell_type": "code",
   "execution_count": 57,
   "metadata": {},
   "outputs": [],
   "source": [
    "from sklearn.model_selection import train_test_split\n",
    "X_train, X_test, y_train, y_test = train_test_split(X, y, test_size=0.2, random_state=10)"
   ]
  },
  {
   "cell_type": "code",
   "execution_count": 58,
   "metadata": {},
   "outputs": [
    {
     "data": {
      "text/plain": [
       "0.6042240591620953"
      ]
     },
     "execution_count": 58,
     "metadata": {},
     "output_type": "execute_result"
    }
   ],
   "source": [
    "from sklearn.linear_model import LinearRegression\n",
    "lr_clf = LinearRegression() \n",
    "lr_clf.fit(X_train, y_train)\n",
    "lr_clf.score(X_test, y_test)"
   ]
  },
  {
   "cell_type": "code",
   "execution_count": 62,
   "metadata": {},
   "outputs": [],
   "source": [
    "#lr_clf.intercept_ # gets the intercept\n",
    "# lr_clf.coef_ # gets the coefficients for each feature"
   ]
  },
  {
   "cell_type": "code",
   "execution_count": 63,
   "metadata": {},
   "outputs": [
    {
     "data": {
      "text/plain": [
       "{'total_sqft': 0.10107514836651144,\n",
       " 'bath': 1.7056553375316952,\n",
       " 'bhk': 3.7960624670375296,\n",
       " ' Devarachikkanahalli': -77.04632490809354,\n",
       " '1st Block Jayanagar': 53.940554911452466,\n",
       " '1st Phase JP Nagar': -14.511658470474714,\n",
       " '2nd Phase Judicial Layout': -84.50085524677868,\n",
       " '2nd Stage Nagarbhavi': 66.70055017517993,\n",
       " '5th Block Hbr Layout': -117.30428482336518,\n",
       " '5th Phase JP Nagar': -81.22791624407277,\n",
       " '6th Phase JP Nagar': -57.920287056985856,\n",
       " '7th Phase JP Nagar': -59.769246411998985,\n",
       " '8th Phase JP Nagar': -61.54491189678565,\n",
       " '9th Phase JP Nagar': -79.16358515831124,\n",
       " 'AECS Layout': -70.75061725297374,\n",
       " 'Abbigere': -86.18993157497559,\n",
       " 'Akshaya Nagar': -78.95108674125731,\n",
       " 'Ambalipura': -66.02085391957704,\n",
       " 'Ambedkar Nagar': -68.35105118134422,\n",
       " 'Amruthahalli': -61.23470754130557,\n",
       " 'Anandapura': -70.07547207515209,\n",
       " 'Ananth Nagar': -75.10183497510639,\n",
       " 'Anekal': -74.91732778521856,\n",
       " 'Anjanapura': -62.34619804726222,\n",
       " 'Ardendale': -98.0957404543627,\n",
       " 'Arekere': -76.47009060327514,\n",
       " 'Attibele': -52.82889734691554,\n",
       " 'BEML Layout': -54.31194496221036,\n",
       " 'BTM 2nd Stage': -13.07594514547246,\n",
       " 'BTM Layout': -75.68227415289276,\n",
       " 'Babusapalaya': -82.976850453272,\n",
       " 'Badavala Nagar': -66.77882354063377,\n",
       " 'Balagere': -42.65431436107534,\n",
       " 'Banashankari': -60.100377020241154,\n",
       " 'Banashankari Stage II': 42.20889558869594,\n",
       " 'Banashankari Stage III': -61.76097105791594,\n",
       " 'Banashankari Stage V': -105.71594960912643,\n",
       " 'Banashankari Stage VI': -104.78066742333162,\n",
       " 'Banaswadi': -37.234759905707044,\n",
       " 'Banjara Layout': -121.49067825541412,\n",
       " 'Bannerghatta': -56.40532135001888,\n",
       " 'Bannerghatta Road': -66.85495514480296,\n",
       " 'Basavangudi': -3.484172304832562,\n",
       " 'Basaveshwara Nagar': -5.083751269565328,\n",
       " 'Battarahalli': -83.60550264304027,\n",
       " 'Begur': -91.49495371694968,\n",
       " 'Begur Road': -88.19703134728819,\n",
       " 'Bellandur': -70.18551817700963,\n",
       " 'Benson Town': 56.120669339898974,\n",
       " 'Bharathi Nagar': -80.24554138886322,\n",
       " 'Bhoganhalli': -65.48504872750881,\n",
       " 'Billekahalli': -59.743184058327444,\n",
       " 'Binny Pete': -27.798189131495747,\n",
       " 'Bisuvanahalli': -72.05121859109994,\n",
       " 'Bommanahalli': -89.62567483470426,\n",
       " 'Bommasandra': -80.37874886507282,\n",
       " 'Bommasandra Industrial Area': -89.05273564700272,\n",
       " 'Bommenahalli': -52.99747298114397,\n",
       " 'Brookefield': -48.97605534592128,\n",
       " 'Budigere': -73.93434867953032,\n",
       " 'CV Raman Nagar': -65.10075045290644,\n",
       " 'Chamrajpet': 73.68437029959533,\n",
       " 'Chandapura': -73.15545239814247,\n",
       " 'Channasandra': -93.12567879552984,\n",
       " 'Chikka Tirupathi': -142.52492615251361,\n",
       " 'Chikkabanavar': -116.53063946237195,\n",
       " 'Chikkalasandra': -73.91767746344532,\n",
       " 'Choodasandra': -67.92492466514733,\n",
       " 'Cooke Town': 8.535379746567578,\n",
       " 'Cox Town': -18.649768683805753,\n",
       " 'Cunningham Road': 330.56187398070904,\n",
       " 'Dasanapura': -64.34898970130062,\n",
       " 'Dasarahalli': -85.06730272569584,\n",
       " 'Devanahalli': -77.55351160715723,\n",
       " 'Dodda Nekkundi': -78.1682796762258,\n",
       " 'Doddaballapur': -97.71541074647203,\n",
       " 'Doddakallasandra': -98.95059585516968,\n",
       " 'Doddathoguru': -70.09734986841354,\n",
       " 'Domlur': -25.099751378608616,\n",
       " 'Dommasandra': -92.08556008790083,\n",
       " 'EPIP Zone': -77.2251058911937,\n",
       " 'Electronic City': -66.12341128383046,\n",
       " 'Electronic City Phase II': -83.97587099094775,\n",
       " 'Electronics City Phase 1': -65.52988270186268,\n",
       " 'Frazer Town': 3.261711300690582,\n",
       " 'GM Palaya': -85.2085258066569,\n",
       " 'Garudachar Palya': -75.64914959748374,\n",
       " 'Giri Nagar': 64.5245806979377,\n",
       " 'Gollarapalya Hosahalli': -82.07870767261991,\n",
       " 'Gottigere': -81.63795557167789,\n",
       " 'Green Glen Layout': -78.1356184244034,\n",
       " 'Gubbalala': -82.89242441400239,\n",
       " 'Gunjur': -89.82559917381877,\n",
       " 'HAL 2nd Stage': 107.64095615833259,\n",
       " 'HBR Layout': -32.74246842235395,\n",
       " 'HRBR Layout': -13.394213230808848,\n",
       " 'HSR Layout': -76.80844382690962,\n",
       " 'Haralur Road': -78.52505357928882,\n",
       " 'Harlur': -62.675991343699486,\n",
       " 'Hebbal': -56.43653603558886,\n",
       " 'Hebbal Kempapura': -25.96337218676019,\n",
       " 'Hegde Nagar': -67.1959702227442,\n",
       " 'Hennur': -81.87355265966693,\n",
       " 'Hennur Road': -75.19144701428769,\n",
       " 'Hoodi': -63.686831979314306,\n",
       " 'Horamavu Agara': -82.40297024754807,\n",
       " 'Horamavu Banaswadi': -75.7164294410233,\n",
       " 'Hormavu': -75.62510262597067,\n",
       " 'Hosa Road': -68.76156578870898,\n",
       " 'Hosakerehalli': -21.07207807409603,\n",
       " 'Hoskote': -71.66222430571531,\n",
       " 'Hosur Road': -67.72887937480546,\n",
       " 'Hulimavu': -62.62861686857361,\n",
       " 'ISRO Layout': -101.88578124729689,\n",
       " 'ITPL': -97.08318436049453,\n",
       " 'Iblur Village': -89.1211328715562,\n",
       " 'Indira Nagar': 78.92717328453686,\n",
       " 'JP Nagar': -64.7591315365622,\n",
       " 'Jakkur': -64.4573002552693,\n",
       " 'Jalahalli': -56.26551793297256,\n",
       " 'Jalahalli East': -63.966763645084384,\n",
       " 'Jigani': -62.346870028124016,\n",
       " 'Judicial Layout': -9.177088722384461,\n",
       " 'KR Puram': -80.49016330396398,\n",
       " 'Kadubeesanahalli': -23.23290307210009,\n",
       " 'Kadugodi': -93.86004066304616,\n",
       " 'Kaggadasapura': -84.87179289784868,\n",
       " 'Kaggalipura': -58.67297131506193,\n",
       " 'Kaikondrahalli': -70.88171533972788,\n",
       " 'Kalena Agrahara': -68.5707478572225,\n",
       " 'Kalyan nagar': -111.44097855650469,\n",
       " 'Kambipura': -59.844340350931276,\n",
       " 'Kammanahalli': -63.14737351523898,\n",
       " 'Kammasandra': -76.41725642708167,\n",
       " 'Kanakapura': -77.29172603004787,\n",
       " 'Kanakpura Road': -56.192325693410666,\n",
       " 'Kannamangala': -75.3139556693977,\n",
       " 'Karuna Nagar': -41.38460249584497,\n",
       " 'Kasavanhalli': -68.79204363779291,\n",
       " 'Kasturi Nagar': -50.82297750092877,\n",
       " 'Kathriguppe': -71.76822846156651,\n",
       " 'Kaval Byrasandra': -65.9462143206284,\n",
       " 'Kenchenahalli': -63.28446735827066,\n",
       " 'Kengeri': -73.20371025636138,\n",
       " 'Kengeri Satellite Town': -70.16019730059944,\n",
       " 'Kereguddadahalli': -78.17601808343935,\n",
       " 'Kodichikkanahalli': -83.14041456816695,\n",
       " 'Kodigehaali': -57.88534694074343,\n",
       " 'Kodigehalli': -19.41668075529953,\n",
       " 'Kodihalli': 103.48664280528772,\n",
       " 'Kogilu': -55.91027808438971,\n",
       " 'Konanakunte': -33.69316251730834,\n",
       " 'Koramangala': 26.812898048081976,\n",
       " 'Kothannur': -88.19753033610033,\n",
       " 'Kothanur': -93.87178573489444,\n",
       " 'Kudlu': -69.52359473597485,\n",
       " 'Kudlu Gate': -74.94685044065446,\n",
       " 'Kumaraswami Layout': -65.39560562254641,\n",
       " 'Kundalahalli': -47.024903549926826,\n",
       " 'LB Shastri Nagar': -63.12289098114511,\n",
       " 'Laggere': -60.66614945640732,\n",
       " 'Lakshminarayana Pura': -50.17390916767883,\n",
       " 'Lingadheeranahalli': -77.11367954433298,\n",
       " 'Magadi Road': -75.2254781480174,\n",
       " 'Mahadevpura': -80.02705753352183,\n",
       " 'Mahalakshmi Layout': 130.63769110946336,\n",
       " 'Mallasandra': -81.06580479312808,\n",
       " 'Malleshpalya': -61.37119402246631,\n",
       " 'Malleshwaram': 113.80064736574919,\n",
       " 'Marathahalli': -70.50171140215794,\n",
       " 'Margondanahalli': -67.93053935860812,\n",
       " 'Marsur': -27.2642925388755,\n",
       " 'Mico Layout': -110.02743892207444,\n",
       " 'Munnekollal': -122.2299400478393,\n",
       " 'Murugeshpalya': -81.8639461471809,\n",
       " 'Mysore Road': -59.29151401410218,\n",
       " 'NGR Layout': -66.56591224723297,\n",
       " 'NRI Layout': -73.36816241970557,\n",
       " 'Nagarbhavi': -6.963990046618207,\n",
       " 'Nagasandra': -128.90807399336762,\n",
       " 'Nagavara': -73.15228692848186,\n",
       " 'Nagavarapalya': -33.84048075084556,\n",
       " 'Narayanapura': -83.5485249567494,\n",
       " 'Neeladri Nagar': -67.68088523164846,\n",
       " 'Nehru Nagar': -79.41827971481362,\n",
       " 'OMBR Layout': -34.96519129826284,\n",
       " 'Old Airport Road': -77.84057081616463,\n",
       " 'Old Madras Road': -70.39606890443929,\n",
       " 'Padmanabhanagar': -52.48484370039753,\n",
       " 'Pai Layout': -70.20343470039333,\n",
       " 'Panathur': -56.41124183677656,\n",
       " 'Parappana Agrahara': -84.36942213824751,\n",
       " 'Pattandur Agrahara': -78.56543850841767,\n",
       " 'Poorna Pragna Layout': -48.45449264557875,\n",
       " 'Prithvi Layout': -43.000442379857816,\n",
       " 'R.T. Nagar': -12.927023119520413,\n",
       " 'Rachenahalli': -73.8201608385792,\n",
       " 'Raja Rajeshwari Nagar': -89.86170291584071,\n",
       " 'Rajaji Nagar': 94.6299402976316,\n",
       " 'Rajiv Nagar': -85.43632163606867,\n",
       " 'Ramagondanahalli': -73.6926953239067,\n",
       " 'Ramamurthy Nagar': -66.22096745626406,\n",
       " 'Rayasandra': -93.1617134125559,\n",
       " 'Sahakara Nagar': -45.284308639689286,\n",
       " 'Sanjay nagar': -29.18855790768167,\n",
       " 'Sarakki Nagar': 21.259179597705966,\n",
       " 'Sarjapur': -78.09783982513386,\n",
       " 'Sarjapur  Road': -64.69813491290722,\n",
       " 'Sarjapura - Attibele Road': -97.40903169360718,\n",
       " 'Sector 2 HSR Layout': -46.54871118744301,\n",
       " 'Sector 7 HSR Layout': -38.175752157160375,\n",
       " 'Seegehalli': -83.26113108453475,\n",
       " 'Shampura': -109.63468904007394,\n",
       " 'Shivaji Nagar': -33.74338250184522,\n",
       " 'Singasandra': -72.4834757040618,\n",
       " 'Somasundara Palya': -72.8803303720761,\n",
       " 'Sompura': -84.81855544796541,\n",
       " 'Sonnenahalli': -69.61425178771997,\n",
       " 'Subramanyapura': -62.617708325189156,\n",
       " 'Sultan Palaya': -87.84947500580272,\n",
       " 'TC Palaya': -68.16830194653406,\n",
       " 'Talaghattapura': -82.23133704966865,\n",
       " 'Thanisandra': -74.5705144903792,\n",
       " 'Thigalarapalya': -57.844181377033166,\n",
       " 'Thubarahalli': -64.64485208401055,\n",
       " 'Thyagaraja Nagar': -60.90161491994189,\n",
       " 'Tindlu': -113.53233353042451,\n",
       " 'Tumkur Road': -61.16300954193905,\n",
       " 'Ulsoor': 79.15275297080885,\n",
       " 'Uttarahalli': -82.2079026192836,\n",
       " 'Varthur': -74.26372489586909,\n",
       " 'Varthur Road': -79.99410451334046,\n",
       " 'Vasanthapura': -76.92984072171058,\n",
       " 'Vidyaranyapura': -87.8011141385725,\n",
       " 'Vijayanagar': -45.131925104188674,\n",
       " 'Vishveshwarya Layout': -151.0669921181378,\n",
       " 'Vishwapriya Layout': -70.88377623341515,\n",
       " 'Vittasandra': -72.75141722670753,\n",
       " 'Whitefield': -60.25222747984493,\n",
       " 'Yelachenahalli': -55.47819886925596,\n",
       " 'Yelahanka': -98.84814497025502,\n",
       " 'Yelahanka New Town': -40.608727163798505,\n",
       " 'Yelenahalli': -83.15858012511832,\n",
       " 'Yeshwanthpur': -44.60850923535136}"
      ]
     },
     "execution_count": 63,
     "metadata": {},
     "output_type": "execute_result"
    }
   ],
   "source": [
    "# getting the named coefficients with dict comprehension\n",
    "features = list(X.columns)\n",
    "coefficients = list(lr_clf.coef_)\n",
    "named_coefficients = {features[i]: coefficients[i] for i in range(len(features))}\n",
    "named_coefficients"
   ]
  },
  {
   "cell_type": "code",
   "execution_count": 199,
   "metadata": {
    "collapsed": true
   },
   "outputs": [
    {
     "data": {
      "text/plain": [
       "{'total_sqft': 0.07941537392443081,\n",
       " 'bath': 5.079024944512794,\n",
       " 'bhk': -1.7728777642470845,\n",
       " '1st Block Jayanagar': 120.1026836079061,\n",
       " '1st Phase JP Nagar': 1.609751311664752,\n",
       " '2nd Phase Judicial Layout': -53.16321913918685,\n",
       " '2nd Stage Nagarbhavi': 100.74470901990432,\n",
       " '5th Block Hbr Layout': -70.98149330012978,\n",
       " '5th Phase JP Nagar': -39.21595424647559,\n",
       " '6th Phase JP Nagar': -19.01728514037446,\n",
       " '7th Phase JP Nagar': -18.657090253870646,\n",
       " '8th Phase JP Nagar': -47.859708585629136,\n",
       " '9th Phase JP Nagar': -45.80726840808923,\n",
       " 'AECS Layout': -36.31031834844076,\n",
       " 'Abbigere': -53.71884390830042,\n",
       " 'Akshaya Nagar': -43.201493277550384,\n",
       " 'Ambalipura': -28.33344558394132,\n",
       " 'Ambedkar Nagar': -30.9802726708115,\n",
       " 'Amruthahalli': -34.134998327941574,\n",
       " 'Anandapura': -43.55421642743196,\n",
       " 'Ananth Nagar': -46.85574954664794,\n",
       " 'Anekal': -35.544384309151624,\n",
       " 'Anjanapura': -51.34133220938104,\n",
       " 'Ardendale': -44.11613217244372,\n",
       " 'Arekere': -33.91073912965313,\n",
       " 'Attibele': -35.09945824849143,\n",
       " 'BEML Layout': -19.32063303643586,\n",
       " 'BTM 2nd Stage': 4.333961579211492,\n",
       " 'BTM Layout': -41.68961086766258,\n",
       " 'Babusapalaya': -52.46660801810294,\n",
       " 'Badavala Nagar': -29.771533670091245,\n",
       " 'Balagere': -16.35703705837166,\n",
       " 'Banashankari': -32.9128204832285,\n",
       " 'Banashankari Stage II': 84.60066396071704,\n",
       " 'Banashankari Stage III': -34.569954327952345,\n",
       " 'Banashankari Stage V': -62.171970629395474,\n",
       " 'Banashankari Stage VI': -61.77638315373315,\n",
       " 'Banaswadi': -31.37255490754843,\n",
       " 'Banjara Layout': -35.007540587219324,\n",
       " 'Bannerghatta': -14.517394897224117,\n",
       " 'Bannerghatta Road': -32.589000610940666,\n",
       " 'Basavangudi': 29.015801257520636,\n",
       " 'Basaveshwara Nagar': -1.04900682774986,\n",
       " 'Battarahalli': -49.879607377034176,\n",
       " 'Begur': -46.05687015551936,\n",
       " 'Begur Road': -56.176446121049025,\n",
       " 'Bellandur': -33.65887050861208,\n",
       " 'Benson Town': 118.62382541078793,\n",
       " 'Bharathi Nagar': -45.717773887101885,\n",
       " 'Bhoganhalli': -31.719612048230086,\n",
       " 'Billekahalli': -23.88648476594574,\n",
       " 'Binny Pete': -0.4145472402144709,\n",
       " 'Bisuvanahalli': -38.8800233455912,\n",
       " 'Bommanahalli': -46.39348354333157,\n",
       " 'Bommasandra': -47.5920574143644,\n",
       " 'Bommasandra Industrial Area': -59.57862613486679,\n",
       " 'Bommenahalli': 3.2520809872227723,\n",
       " 'Brookefield': -20.926763162759677,\n",
       " 'Budigere': -40.1275018915307,\n",
       " 'CV Raman Nagar': -32.020544791613844,\n",
       " 'Chamrajpet': 19.102875763741228,\n",
       " 'Chandapura': -44.60790914540223,\n",
       " 'Channasandra': -51.412436170359335,\n",
       " 'Chikka Tirupathi': -102.31155464889245,\n",
       " 'Chikkabanavar': -83.12657316741841,\n",
       " 'Chikkalasandra': -37.28100453036104,\n",
       " 'Choodasandra': -38.947248103852786,\n",
       " 'Cooke Town': 72.72490679532052,\n",
       " 'Cox Town': 0.9944587616995566,\n",
       " 'Cunningham Road': 447.624333563968,\n",
       " 'Dasanapura': -26.681614608859633,\n",
       " 'Dasarahalli': -40.40525962563569,\n",
       " 'Devanahalli': -40.294864994811284,\n",
       " 'Devarachikkanahalli': -44.30387955775479,\n",
       " 'Dodda Nekkundi': -41.48545625222292,\n",
       " 'Doddaballapur': -20.807876489426825,\n",
       " 'Doddakallasandra': -43.0047002604026,\n",
       " 'Doddathoguru': -45.58337104854908,\n",
       " 'Domlur': 10.71683862392988,\n",
       " 'Dommasandra': -49.60548528683688,\n",
       " 'EPIP Zone': -25.82265680120348,\n",
       " 'Electronic City': -33.374307879035555,\n",
       " 'Electronic City Phase II': -51.13954933616743,\n",
       " 'Electronics City Phase 1': -35.10849164754943,\n",
       " 'Frazer Town': 46.09738805624029,\n",
       " 'GM Palaya': -53.260215387731094,\n",
       " 'Garudachar Palya': -41.64349837561448,\n",
       " 'Giri Nagar': 164.92396008035215,\n",
       " 'Gollarapalya Hosahalli': -46.54262682004711,\n",
       " 'Gottigere': -50.82374337866633,\n",
       " 'Green Glen Layout': -27.415240293280966,\n",
       " 'Gubbalala': -43.488308112145944,\n",
       " 'Gunjur': -49.70302104030203,\n",
       " 'HAL 2nd Stage': 233.42518330525346,\n",
       " 'HBR Layout': -22.325240796234866,\n",
       " 'HRBR Layout': -4.896703406937558,\n",
       " 'HSR Layout': -43.86383572950522,\n",
       " 'Haralur Road': -44.54799124722383,\n",
       " 'Harlur': -21.645674564000462,\n",
       " 'Hebbal': -10.664098945887687,\n",
       " 'Hebbal Kempapura': 19.059052426899967,\n",
       " 'Hegde Nagar': -28.75007662552849,\n",
       " 'Hennur': -47.09013732249131,\n",
       " 'Hennur Road': -30.500543160917466,\n",
       " 'Hoodi': -34.626969537625854,\n",
       " 'Horamavu Agara': -47.090153836588755,\n",
       " 'Horamavu Banaswadi': -49.457325027076195,\n",
       " 'Hormavu': -40.18836811907582,\n",
       " 'Hosa Road': -33.06353166942647,\n",
       " 'Hosakerehalli': 28.153930179762146,\n",
       " 'Hoskote': -51.30139201552202,\n",
       " 'Hosur Road': -30.429046627494692,\n",
       " 'Hulimavu': -29.997938074981505,\n",
       " 'ISRO Layout': -48.661555234050496,\n",
       " 'ITPL': -46.49467046949825,\n",
       " 'Iblur Village': -23.016253844264554,\n",
       " 'Indira Nagar': 99.38885938005772,\n",
       " 'JP Nagar': -27.716523759908732,\n",
       " 'Jakkur': -27.420912364658253,\n",
       " 'Jalahalli': -17.499202719467075,\n",
       " 'Jalahalli East': -30.55627715312862,\n",
       " 'Jigani': -32.06747561362387,\n",
       " 'Judicial Layout': 22.180911948604816,\n",
       " 'KR Puram': -49.5667107501465,\n",
       " 'Kadubeesanahalli': -27.65072391563504,\n",
       " 'Kadugodi': -38.94976470503656,\n",
       " 'Kaggadasapura': -47.27558625391503,\n",
       " 'Kaggalipura': -25.429748290025817,\n",
       " 'Kaikondrahalli': -34.12104399314174,\n",
       " 'Kalena Agrahara': -42.04260798501459,\n",
       " 'Kalyan nagar': -33.46764781196412,\n",
       " 'Kambipura': -31.437892122388547,\n",
       " 'Kammanahalli': -30.803768836857145,\n",
       " 'Kammasandra': -46.59862407279459,\n",
       " 'Kanakapura': -40.24647340052333,\n",
       " 'Kanakpura Road': -33.02680752208826,\n",
       " 'Kannamangala': -37.73074734532446,\n",
       " 'Karuna Nagar': -12.856112013480718,\n",
       " 'Kasavanhalli': -29.00276384061712,\n",
       " 'Kasturi Nagar': -29.597198309066627,\n",
       " 'Kathriguppe': -31.176275111273327,\n",
       " 'Kaval Byrasandra': -36.97468534285986,\n",
       " 'Kenchenahalli': -30.063898409727596,\n",
       " 'Kengeri': -34.766671959352536,\n",
       " 'Kengeri Satellite Town': -38.33822816328637,\n",
       " 'Kereguddadahalli': -48.674650772292004,\n",
       " 'Kodichikkanahalli': -44.26982812071277,\n",
       " 'Kodigehaali': -35.44218306114172,\n",
       " 'Kodigehalli': -3.6508930363821186,\n",
       " 'Kodihalli': 50.96885719293209,\n",
       " 'Kogilu': -45.79874222276412,\n",
       " 'Konanakunte': -3.6520282501941814,\n",
       " 'Koramangala': 53.667161278641444,\n",
       " 'Kothannur': -50.45140076401998,\n",
       " 'Kothanur': -44.67679651297274,\n",
       " 'Kudlu': -40.48736194985059,\n",
       " 'Kudlu Gate': -37.770439740250694,\n",
       " 'Kumaraswami Layout': -61.08456883774248,\n",
       " 'Kundalahalli': -12.313069737763637,\n",
       " 'LB Shastri Nagar': -34.85172195824991,\n",
       " 'Laggere': -13.946120421915221,\n",
       " 'Lakshminarayana Pura': -19.3280869750905,\n",
       " 'Lingadheeranahalli': -30.164586990584695,\n",
       " 'Magadi Road': -48.87817228427269,\n",
       " 'Mahadevpura': -43.42862444433419,\n",
       " 'Mahalakshmi Layout': 22.17177572221283,\n",
       " 'Mallasandra': -41.702571215585024,\n",
       " 'Malleshpalya': -43.1762828261491,\n",
       " 'Malleshwaram': 117.60780572898275,\n",
       " 'Marathahalli': -33.8825676076522,\n",
       " 'Margondanahalli': -28.029859971426067,\n",
       " 'Marsur': 0.26969206320165284,\n",
       " 'Mico Layout': -70.62279305536315,\n",
       " 'Munnekollal': -44.73539972634245,\n",
       " 'Murugeshpalya': -45.54078313541762,\n",
       " 'Mysore Road': -33.46707315040744,\n",
       " 'NGR Layout': -38.143110496503326,\n",
       " 'NRI Layout': -63.2217690320588,\n",
       " 'Nagarbhavi': -9.742962271884018,\n",
       " 'Nagasandra': -39.849129852417875,\n",
       " 'Nagavara': -41.8421945782005,\n",
       " 'Nagavarapalya': -7.211670890992356,\n",
       " 'Narayanapura': -35.62740191767696,\n",
       " 'Neeladri Nagar': -48.99126309924873,\n",
       " 'Nehru Nagar': -48.04803786664463,\n",
       " 'OMBR Layout': -19.25671059995788,\n",
       " 'Old Airport Road': -21.94942896274936,\n",
       " 'Old Madras Road': -31.475421405867447,\n",
       " 'Padmanabhanagar': -16.534566976357247,\n",
       " 'Pai Layout': -42.212801379514694,\n",
       " 'Panathur': -22.49310831693713,\n",
       " 'Parappana Agrahara': -50.301260841640854,\n",
       " 'Pattandur Agrahara': -38.82898848689511,\n",
       " 'Poorna Pragna Layout': -41.7080636929788,\n",
       " 'Prithvi Layout': -17.920300368844675,\n",
       " 'R.T. Nagar': 1.402769630273525,\n",
       " 'Rachenahalli': -33.71710404007738,\n",
       " 'Raja Rajeshwari Nagar': -51.13258475961047,\n",
       " 'Rajaji Nagar': 137.2514977706236,\n",
       " 'Rajiv Nagar': -41.918136841986666,\n",
       " 'Ramagondanahalli': -34.85562382188405,\n",
       " 'Ramamurthy Nagar': -37.21293105909335,\n",
       " 'Rayasandra': -54.635305976227706,\n",
       " 'Sahakara Nagar': -26.80886961624046,\n",
       " 'Sanjay nagar': -7.337386862655458,\n",
       " 'Sarakki Nagar': 73.11569425302628,\n",
       " 'Sarjapur': -51.337463862559275,\n",
       " 'Sarjapur  Road': -25.889548297365312,\n",
       " 'Sarjapura - Attibele Road': -61.693737052337724,\n",
       " 'Sector 2 HSR Layout': -23.774942040209726,\n",
       " 'Sector 7 HSR Layout': 7.915534650960524,\n",
       " 'Seegehalli': -42.107018657427176,\n",
       " 'Shampura': -48.599787004125474,\n",
       " 'Shivaji Nagar': -2.5986960713102363,\n",
       " 'Singasandra': -44.468465704303206,\n",
       " 'Somasundara Palya': -33.306658759613995,\n",
       " 'Sompura': -54.98713996292088,\n",
       " 'Sonnenahalli': -39.73461209642474,\n",
       " 'Subramanyapura': -29.633027073003486,\n",
       " 'Sultan Palaya': -36.243490667315776,\n",
       " 'TC Palaya': -33.24826323470054,\n",
       " 'Talaghattapura': -34.19244851269299,\n",
       " 'Thanisandra': -27.739672613422254,\n",
       " 'Thigalarapalya': -15.650986444362328,\n",
       " 'Thubarahalli': -34.201303598921825,\n",
       " 'Thyagaraja Nagar': 4.641815810923968,\n",
       " 'Tindlu': -75.06545912711385,\n",
       " 'Tumkur Road': -23.043740129686327,\n",
       " 'Ulsoor': 8.886036880406447,\n",
       " 'Uttarahalli': -47.848373070899484,\n",
       " 'Varthur': -42.05198182923759,\n",
       " 'Varthur Road': -45.758594523356436,\n",
       " 'Vasanthapura': -47.70108484015041,\n",
       " 'Vidyaranyapura': -37.24698295836542,\n",
       " 'Vijayanagar': -19.59220171420221,\n",
       " 'Vishveshwarya Layout': -81.65436714916058,\n",
       " 'Vishwapriya Layout': -36.528450936563544,\n",
       " 'Vittasandra': -36.99182054167523,\n",
       " 'Whitefield': -28.530907362255405,\n",
       " 'Yelachenahalli': -30.781751570210073,\n",
       " 'Yelahanka': -35.288122784229245,\n",
       " 'Yelahanka New Town': -24.87753935199096,\n",
       " 'Yelenahalli': -53.62269568530673,\n",
       " 'Yeshwanthpur': -12.598085499947329}"
      ]
     },
     "execution_count": 199,
     "metadata": {},
     "output_type": "execute_result"
    }
   ],
   "source": [
    "# getting the named coefficients with zip()\n",
    "\n",
    "features = list(X.columns)\n",
    "coefficients = list(lr_clf.coef_)\n",
    "named_coefficients = dict(zip(features, coefficients))\n",
    "named_coefficients"
   ]
  },
  {
   "cell_type": "code",
   "execution_count": 64,
   "metadata": {},
   "outputs": [
    {
     "data": {
      "text/plain": [
       "array([0.73057637, 0.65682335, 0.57414432, 0.66932802, 0.77452699])"
      ]
     },
     "execution_count": 64,
     "metadata": {},
     "output_type": "execute_result"
    }
   ],
   "source": [
    "from sklearn.model_selection import ShuffleSplit\n",
    "from sklearn.model_selection import cross_val_score\n",
    "\n",
    "cv = ShuffleSplit(n_splits=5, test_size=0.2, random_state=0)\n",
    "\n",
    "cross_val_score(LinearRegression(), X, y, cv=cv)"
   ]
  },
  {
   "cell_type": "code",
   "execution_count": 72,
   "metadata": {},
   "outputs": [
    {
     "name": "stdout",
     "output_type": "stream",
     "text": [
      "Fitting 5 folds for each of 2 candidates, totalling 10 fits\n",
      "[CV] normalize=True ..................................................\n",
      "[CV] ...................... normalize=True, score=0.731, total=   0.2s\n",
      "[CV] normalize=True .................................................."
     ]
    },
    {
     "name": "stderr",
     "output_type": "stream",
     "text": [
      "[Parallel(n_jobs=1)]: Using backend SequentialBackend with 1 concurrent workers.\n",
      "[Parallel(n_jobs=1)]: Done   1 out of   1 | elapsed:    0.1s remaining:    0.0s\n"
     ]
    },
    {
     "name": "stdout",
     "output_type": "stream",
     "text": [
      "\n",
      "[CV] ...................... normalize=True, score=0.657, total=   0.2s\n",
      "[CV] normalize=True .................................................."
     ]
    },
    {
     "name": "stderr",
     "output_type": "stream",
     "text": [
      "[Parallel(n_jobs=1)]: Done   2 out of   2 | elapsed:    0.3s remaining:    0.0s\n"
     ]
    },
    {
     "name": "stdout",
     "output_type": "stream",
     "text": [
      "\n",
      "[CV] ...................... normalize=True, score=0.574, total=   0.2s\n",
      "[CV] normalize=True ..................................................\n",
      "[CV] ...................... normalize=True, score=0.669, total=   0.2s\n",
      "[CV] normalize=True ..................................................\n",
      "[CV] ...................... normalize=True, score=0.775, total=   0.2s\n",
      "[CV] normalize=False .................................................\n",
      "[CV] ..................... normalize=False, score=0.731, total=   0.2s\n",
      "[CV] normalize=False .................................................\n",
      "[CV] ..................... normalize=False, score=0.657, total=   0.2s\n",
      "[CV] normalize=False .................................................\n",
      "[CV] ..................... normalize=False, score=0.574, total=   0.2s\n",
      "[CV] normalize=False .................................................\n",
      "[CV] ..................... normalize=False, score=0.669, total=   0.2s\n",
      "[CV] normalize=False .................................................\n",
      "[CV] ..................... normalize=False, score=0.775, total=   0.2s\n"
     ]
    },
    {
     "name": "stderr",
     "output_type": "stream",
     "text": [
      "[Parallel(n_jobs=1)]: Done  10 out of  10 | elapsed:    1.9s finished\n",
      "[Parallel(n_jobs=1)]: Using backend SequentialBackend with 1 concurrent workers.\n"
     ]
    },
    {
     "name": "stdout",
     "output_type": "stream",
     "text": [
      "Fitting 5 folds for each of 20 candidates, totalling 100 fits\n",
      "[CV] alpha=0.01, normalize=True, selection=random ....................\n",
      "[CV]  alpha=0.01, normalize=True, selection=random, score=0.714, total=   0.4s\n",
      "[CV] alpha=0.01, normalize=True, selection=random ....................\n"
     ]
    },
    {
     "name": "stderr",
     "output_type": "stream",
     "text": [
      "[Parallel(n_jobs=1)]: Done   1 out of   1 | elapsed:    0.3s remaining:    0.0s\n"
     ]
    },
    {
     "name": "stdout",
     "output_type": "stream",
     "text": [
      "[CV]  alpha=0.01, normalize=True, selection=random, score=0.637, total=   0.3s\n",
      "[CV] alpha=0.01, normalize=True, selection=random ....................\n"
     ]
    },
    {
     "name": "stderr",
     "output_type": "stream",
     "text": [
      "[Parallel(n_jobs=1)]: Done   2 out of   2 | elapsed:    0.6s remaining:    0.0s\n"
     ]
    },
    {
     "name": "stdout",
     "output_type": "stream",
     "text": [
      "[CV]  alpha=0.01, normalize=True, selection=random, score=0.559, total=   0.2s\n",
      "[CV] alpha=0.01, normalize=True, selection=random ....................\n",
      "[CV]  alpha=0.01, normalize=True, selection=random, score=0.646, total=   0.4s\n",
      "[CV] alpha=0.01, normalize=True, selection=random ....................\n",
      "[CV]  alpha=0.01, normalize=True, selection=random, score=0.763, total=   0.3s\n",
      "[CV] alpha=0.01, normalize=True, selection=cyclic ....................\n",
      "[CV]  alpha=0.01, normalize=True, selection=cyclic, score=0.714, total=   0.2s\n",
      "[CV] alpha=0.01, normalize=True, selection=cyclic ....................\n",
      "[CV]  alpha=0.01, normalize=True, selection=cyclic, score=0.637, total=   0.2s\n",
      "[CV] alpha=0.01, normalize=True, selection=cyclic ....................\n",
      "[CV]  alpha=0.01, normalize=True, selection=cyclic, score=0.559, total=   0.1s\n",
      "[CV] alpha=0.01, normalize=True, selection=cyclic ....................\n",
      "[CV]  alpha=0.01, normalize=True, selection=cyclic, score=0.646, total=   0.2s\n",
      "[CV] alpha=0.01, normalize=True, selection=cyclic ....................\n",
      "[CV]  alpha=0.01, normalize=True, selection=cyclic, score=0.763, total=   0.2s\n",
      "[CV] alpha=0.01, normalize=False, selection=random ...................\n",
      "[CV]  alpha=0.01, normalize=False, selection=random, score=0.733, total=   0.7s\n",
      "[CV] alpha=0.01, normalize=False, selection=random ...................\n",
      "[CV]  alpha=0.01, normalize=False, selection=random, score=0.655, total=   0.7s\n",
      "[CV] alpha=0.01, normalize=False, selection=random ...................\n",
      "[CV]  alpha=0.01, normalize=False, selection=random, score=0.570, total=   0.5s\n",
      "[CV] alpha=0.01, normalize=False, selection=random ...................\n",
      "[CV]  alpha=0.01, normalize=False, selection=random, score=0.669, total=   0.6s\n",
      "[CV] alpha=0.01, normalize=False, selection=random ...................\n",
      "[CV]  alpha=0.01, normalize=False, selection=random, score=0.776, total=   0.7s\n",
      "[CV] alpha=0.01, normalize=False, selection=cyclic ...................\n",
      "[CV]  alpha=0.01, normalize=False, selection=cyclic, score=0.733, total=   0.5s\n",
      "[CV] alpha=0.01, normalize=False, selection=cyclic ...................\n",
      "[CV]  alpha=0.01, normalize=False, selection=cyclic, score=0.655, total=   0.5s\n",
      "[CV] alpha=0.01, normalize=False, selection=cyclic ...................\n",
      "[CV]  alpha=0.01, normalize=False, selection=cyclic, score=0.570, total=   0.3s\n",
      "[CV] alpha=0.01, normalize=False, selection=cyclic ...................\n",
      "[CV]  alpha=0.01, normalize=False, selection=cyclic, score=0.669, total=   0.6s\n",
      "[CV] alpha=0.01, normalize=False, selection=cyclic ...................\n",
      "[CV]  alpha=0.01, normalize=False, selection=cyclic, score=0.776, total=   0.5s\n",
      "[CV] alpha=0.1, normalize=True, selection=random .....................\n",
      "[CV]  alpha=0.1, normalize=True, selection=random, score=0.684, total=   0.1s\n",
      "[CV] alpha=0.1, normalize=True, selection=random .....................\n",
      "[CV]  alpha=0.1, normalize=True, selection=random, score=0.602, total=   0.1s\n",
      "[CV] alpha=0.1, normalize=True, selection=random .....................\n",
      "[CV]  alpha=0.1, normalize=True, selection=random, score=0.535, total=   0.1s\n",
      "[CV] alpha=0.1, normalize=True, selection=random .....................\n",
      "[CV]  alpha=0.1, normalize=True, selection=random, score=0.604, total=   0.2s\n",
      "[CV] alpha=0.1, normalize=True, selection=random .....................\n",
      "[CV]  alpha=0.1, normalize=True, selection=random, score=0.704, total=   0.1s\n",
      "[CV] alpha=0.1, normalize=True, selection=cyclic .....................\n",
      "[CV]  alpha=0.1, normalize=True, selection=cyclic, score=0.684, total=   0.1s\n",
      "[CV] alpha=0.1, normalize=True, selection=cyclic .....................\n",
      "[CV]  alpha=0.1, normalize=True, selection=cyclic, score=0.602, total=   0.1s\n",
      "[CV] alpha=0.1, normalize=True, selection=cyclic .....................\n",
      "[CV]  alpha=0.1, normalize=True, selection=cyclic, score=0.535, total=   0.1s\n",
      "[CV] alpha=0.1, normalize=True, selection=cyclic .....................\n",
      "[CV]  alpha=0.1, normalize=True, selection=cyclic, score=0.604, total=   0.1s\n",
      "[CV] alpha=0.1, normalize=True, selection=cyclic .....................\n",
      "[CV]  alpha=0.1, normalize=True, selection=cyclic, score=0.704, total=   0.1s\n",
      "[CV] alpha=0.1, normalize=False, selection=random ....................\n",
      "[CV]  alpha=0.1, normalize=False, selection=random, score=0.703, total=   0.3s\n",
      "[CV] alpha=0.1, normalize=False, selection=random ....................\n",
      "[CV]  alpha=0.1, normalize=False, selection=random, score=0.628, total=   0.4s\n",
      "[CV] alpha=0.1, normalize=False, selection=random ....................\n",
      "[CV]  alpha=0.1, normalize=False, selection=random, score=0.544, total=   0.3s\n",
      "[CV] alpha=0.1, normalize=False, selection=random ....................\n",
      "[CV]  alpha=0.1, normalize=False, selection=random, score=0.635, total=   0.2s\n",
      "[CV] alpha=0.1, normalize=False, selection=random ....................\n",
      "[CV]  alpha=0.1, normalize=False, selection=random, score=0.754, total=   0.4s\n",
      "[CV] alpha=0.1, normalize=False, selection=cyclic ....................\n",
      "[CV]  alpha=0.1, normalize=False, selection=cyclic, score=0.703, total=   0.3s\n",
      "[CV] alpha=0.1, normalize=False, selection=cyclic ....................\n",
      "[CV]  alpha=0.1, normalize=False, selection=cyclic, score=0.628, total=   0.3s\n",
      "[CV] alpha=0.1, normalize=False, selection=cyclic ....................\n",
      "[CV]  alpha=0.1, normalize=False, selection=cyclic, score=0.544, total=   0.2s\n",
      "[CV] alpha=0.1, normalize=False, selection=cyclic ....................\n",
      "[CV]  alpha=0.1, normalize=False, selection=cyclic, score=0.636, total=   0.4s\n",
      "[CV] alpha=0.1, normalize=False, selection=cyclic ....................\n",
      "[CV]  alpha=0.1, normalize=False, selection=cyclic, score=0.754, total=   0.3s\n",
      "[CV] alpha=0.5, normalize=True, selection=random .....................\n",
      "[CV]  alpha=0.5, normalize=True, selection=random, score=0.565, total=   0.1s\n",
      "[CV] alpha=0.5, normalize=True, selection=random .....................\n",
      "[CV]  alpha=0.5, normalize=True, selection=random, score=0.473, total=   0.1s\n",
      "[CV] alpha=0.5, normalize=True, selection=random .....................\n",
      "[CV]  alpha=0.5, normalize=True, selection=random, score=0.494, total=   0.1s\n",
      "[CV] alpha=0.5, normalize=True, selection=random .....................\n",
      "[CV]  alpha=0.5, normalize=True, selection=random, score=0.474, total=   0.1s\n",
      "[CV] alpha=0.5, normalize=True, selection=random .....................\n",
      "[CV]  alpha=0.5, normalize=True, selection=random, score=0.530, total=   0.1s\n",
      "[CV] alpha=0.5, normalize=True, selection=cyclic .....................\n",
      "[CV]  alpha=0.5, normalize=True, selection=cyclic, score=0.565, total=   0.1s\n",
      "[CV] alpha=0.5, normalize=True, selection=cyclic .....................\n",
      "[CV]  alpha=0.5, normalize=True, selection=cyclic, score=0.473, total=   0.1s\n",
      "[CV] alpha=0.5, normalize=True, selection=cyclic .....................\n",
      "[CV]  alpha=0.5, normalize=True, selection=cyclic, score=0.494, total=   0.1s\n",
      "[CV] alpha=0.5, normalize=True, selection=cyclic .....................\n",
      "[CV]  alpha=0.5, normalize=True, selection=cyclic, score=0.474, total=   0.1s\n",
      "[CV] alpha=0.5, normalize=True, selection=cyclic .....................\n",
      "[CV]  alpha=0.5, normalize=True, selection=cyclic, score=0.530, total=   0.1s\n",
      "[CV] alpha=0.5, normalize=False, selection=random ....................\n",
      "[CV]  alpha=0.5, normalize=False, selection=random, score=0.695, total=   0.2s\n",
      "[CV] alpha=0.5, normalize=False, selection=random ....................\n",
      "[CV]  alpha=0.5, normalize=False, selection=random, score=0.616, total=   0.2s\n",
      "[CV] alpha=0.5, normalize=False, selection=random ....................\n",
      "[CV]  alpha=0.5, normalize=False, selection=random, score=0.507, total=   0.1s\n",
      "[CV] alpha=0.5, normalize=False, selection=random ....................\n",
      "[CV]  alpha=0.5, normalize=False, selection=random, score=0.604, total=   0.2s\n",
      "[CV] alpha=0.5, normalize=False, selection=random ....................\n",
      "[CV]  alpha=0.5, normalize=False, selection=random, score=0.716, total=   0.2s\n",
      "[CV] alpha=0.5, normalize=False, selection=cyclic ....................\n",
      "[CV]  alpha=0.5, normalize=False, selection=cyclic, score=0.695, total=   0.2s\n",
      "[CV] alpha=0.5, normalize=False, selection=cyclic ....................\n",
      "[CV]  alpha=0.5, normalize=False, selection=cyclic, score=0.616, total=   0.2s\n",
      "[CV] alpha=0.5, normalize=False, selection=cyclic ....................\n",
      "[CV]  alpha=0.5, normalize=False, selection=cyclic, score=0.507, total=   0.1s\n",
      "[CV] alpha=0.5, normalize=False, selection=cyclic ....................\n"
     ]
    },
    {
     "name": "stdout",
     "output_type": "stream",
     "text": [
      "[CV]  alpha=0.5, normalize=False, selection=cyclic, score=0.604, total=   0.2s\n",
      "[CV] alpha=0.5, normalize=False, selection=cyclic ....................\n",
      "[CV]  alpha=0.5, normalize=False, selection=cyclic, score=0.716, total=   0.2s\n",
      "[CV] alpha=1, normalize=True, selection=random .......................\n",
      "[CV]  alpha=1, normalize=True, selection=random, score=0.261, total=   0.1s\n",
      "[CV] alpha=1, normalize=True, selection=random .......................\n",
      "[CV]  alpha=1, normalize=True, selection=random, score=0.196, total=   0.1s\n",
      "[CV] alpha=1, normalize=True, selection=random .......................\n",
      "[CV]  alpha=1, normalize=True, selection=random, score=0.233, total=   0.1s\n",
      "[CV] alpha=1, normalize=True, selection=random .......................\n",
      "[CV]  alpha=1, normalize=True, selection=random, score=0.190, total=   0.1s\n",
      "[CV] alpha=1, normalize=True, selection=random .......................\n",
      "[CV]  alpha=1, normalize=True, selection=random, score=0.204, total=   0.1s\n",
      "[CV] alpha=1, normalize=True, selection=cyclic .......................\n",
      "[CV]  alpha=1, normalize=True, selection=cyclic, score=0.261, total=   0.1s\n",
      "[CV] alpha=1, normalize=True, selection=cyclic .......................\n",
      "[CV]  alpha=1, normalize=True, selection=cyclic, score=0.196, total=   0.1s\n",
      "[CV] alpha=1, normalize=True, selection=cyclic .......................\n",
      "[CV]  alpha=1, normalize=True, selection=cyclic, score=0.233, total=   0.1s\n",
      "[CV] alpha=1, normalize=True, selection=cyclic .......................\n",
      "[CV]  alpha=1, normalize=True, selection=cyclic, score=0.190, total=   0.1s\n",
      "[CV] alpha=1, normalize=True, selection=cyclic .......................\n",
      "[CV]  alpha=1, normalize=True, selection=cyclic, score=0.204, total=   0.1s\n",
      "[CV] alpha=1, normalize=False, selection=random ......................\n",
      "[CV]  alpha=1, normalize=False, selection=random, score=0.681, total=   0.2s\n",
      "[CV] alpha=1, normalize=False, selection=random ......................\n",
      "[CV]  alpha=1, normalize=False, selection=random, score=0.608, total=   0.2s\n",
      "[CV] alpha=1, normalize=False, selection=random ......................\n",
      "[CV]  alpha=1, normalize=False, selection=random, score=0.494, total=   0.2s\n",
      "[CV] alpha=1, normalize=False, selection=random ......................\n",
      "[CV]  alpha=1, normalize=False, selection=random, score=0.601, total=   0.2s\n",
      "[CV] alpha=1, normalize=False, selection=random ......................\n",
      "[CV]  alpha=1, normalize=False, selection=random, score=0.702, total=   0.1s\n",
      "[CV] alpha=1, normalize=False, selection=cyclic ......................\n",
      "[CV]  alpha=1, normalize=False, selection=cyclic, score=0.681, total=   0.2s\n",
      "[CV] alpha=1, normalize=False, selection=cyclic ......................\n",
      "[CV]  alpha=1, normalize=False, selection=cyclic, score=0.608, total=   0.2s\n",
      "[CV] alpha=1, normalize=False, selection=cyclic ......................\n",
      "[CV]  alpha=1, normalize=False, selection=cyclic, score=0.494, total=   0.1s\n",
      "[CV] alpha=1, normalize=False, selection=cyclic ......................\n",
      "[CV]  alpha=1, normalize=False, selection=cyclic, score=0.601, total=   0.2s\n",
      "[CV] alpha=1, normalize=False, selection=cyclic ......................\n",
      "[CV]  alpha=1, normalize=False, selection=cyclic, score=0.702, total=   0.2s\n",
      "[CV] alpha=2, normalize=True, selection=random .......................\n",
      "[CV]  alpha=2, normalize=True, selection=random, score=-0.001, total=   0.1s\n",
      "[CV] alpha=2, normalize=True, selection=random .......................\n",
      "[CV]  alpha=2, normalize=True, selection=random, score=-0.000, total=   0.1s\n",
      "[CV] alpha=2, normalize=True, selection=random .......................\n",
      "[CV]  alpha=2, normalize=True, selection=random, score=-0.002, total=   0.1s\n",
      "[CV] alpha=2, normalize=True, selection=random .......................\n",
      "[CV]  alpha=2, normalize=True, selection=random, score=-0.001, total=   0.1s\n",
      "[CV] alpha=2, normalize=True, selection=random .......................\n",
      "[CV]  alpha=2, normalize=True, selection=random, score=-0.000, total=   0.1s\n",
      "[CV] alpha=2, normalize=True, selection=cyclic .......................\n",
      "[CV]  alpha=2, normalize=True, selection=cyclic, score=-0.001, total=   0.1s\n",
      "[CV] alpha=2, normalize=True, selection=cyclic .......................\n",
      "[CV]  alpha=2, normalize=True, selection=cyclic, score=-0.000, total=   0.1s\n",
      "[CV] alpha=2, normalize=True, selection=cyclic .......................\n",
      "[CV]  alpha=2, normalize=True, selection=cyclic, score=-0.002, total=   0.1s\n",
      "[CV] alpha=2, normalize=True, selection=cyclic .......................\n",
      "[CV]  alpha=2, normalize=True, selection=cyclic, score=-0.001, total=   0.1s\n",
      "[CV] alpha=2, normalize=True, selection=cyclic .......................\n",
      "[CV]  alpha=2, normalize=True, selection=cyclic, score=-0.000, total=   0.1s\n",
      "[CV] alpha=2, normalize=False, selection=random ......................\n",
      "[CV]  alpha=2, normalize=False, selection=random, score=0.677, total=   0.1s\n",
      "[CV] alpha=2, normalize=False, selection=random ......................\n",
      "[CV]  alpha=2, normalize=False, selection=random, score=0.606, total=   0.1s\n",
      "[CV] alpha=2, normalize=False, selection=random ......................\n",
      "[CV]  alpha=2, normalize=False, selection=random, score=0.498, total=   0.1s\n",
      "[CV] alpha=2, normalize=False, selection=random ......................\n",
      "[CV]  alpha=2, normalize=False, selection=random, score=0.599, total=   0.2s\n",
      "[CV] alpha=2, normalize=False, selection=random ......................\n",
      "[CV]  alpha=2, normalize=False, selection=random, score=0.699, total=   0.1s\n",
      "[CV] alpha=2, normalize=False, selection=cyclic ......................\n",
      "[CV]  alpha=2, normalize=False, selection=cyclic, score=0.677, total=   0.2s\n",
      "[CV] alpha=2, normalize=False, selection=cyclic ......................\n",
      "[CV]  alpha=2, normalize=False, selection=cyclic, score=0.606, total=   0.2s\n",
      "[CV] alpha=2, normalize=False, selection=cyclic ......................\n",
      "[CV]  alpha=2, normalize=False, selection=cyclic, score=0.498, total=   0.1s\n",
      "[CV] alpha=2, normalize=False, selection=cyclic ......................\n",
      "[CV]  alpha=2, normalize=False, selection=cyclic, score=0.599, total=   0.3s\n",
      "[CV] alpha=2, normalize=False, selection=cyclic ......................\n",
      "[CV]  alpha=2, normalize=False, selection=cyclic, score=0.699, total=   0.2s\n"
     ]
    },
    {
     "name": "stderr",
     "output_type": "stream",
     "text": [
      "[Parallel(n_jobs=1)]: Done 100 out of 100 | elapsed:   20.3s finished\n"
     ]
    },
    {
     "name": "stdout",
     "output_type": "stream",
     "text": [
      "Fitting 5 folds for each of 10 candidates, totalling 50 fits\n",
      "[CV] alpha=0.01, normalize=True ......................................\n",
      "[CV] .......... alpha=0.01, normalize=True, score=0.731, total=   0.1s\n",
      "[CV] alpha=0.01, normalize=True ......................................\n"
     ]
    },
    {
     "name": "stderr",
     "output_type": "stream",
     "text": [
      "[Parallel(n_jobs=1)]: Using backend SequentialBackend with 1 concurrent workers.\n",
      "[Parallel(n_jobs=1)]: Done   1 out of   1 | elapsed:    0.0s remaining:    0.0s\n"
     ]
    },
    {
     "name": "stdout",
     "output_type": "stream",
     "text": [
      "[CV] .......... alpha=0.01, normalize=True, score=0.654, total=   0.1s\n",
      "[CV] alpha=0.01, normalize=True ......................................\n",
      "[CV] .......... alpha=0.01, normalize=True, score=0.582, total=   0.1s\n",
      "[CV] alpha=0.01, normalize=True ......................................\n",
      "[CV] .......... alpha=0.01, normalize=True, score=0.667, total=   0.1s\n",
      "[CV] alpha=0.01, normalize=True ......................................\n"
     ]
    },
    {
     "name": "stderr",
     "output_type": "stream",
     "text": [
      "[Parallel(n_jobs=1)]: Done   2 out of   2 | elapsed:    0.1s remaining:    0.0s\n"
     ]
    },
    {
     "name": "stdout",
     "output_type": "stream",
     "text": [
      "[CV] .......... alpha=0.01, normalize=True, score=0.774, total=   0.1s\n",
      "[CV] alpha=0.01, normalize=False .....................................\n",
      "[CV] ......... alpha=0.01, normalize=False, score=0.731, total=   0.1s\n",
      "[CV] alpha=0.01, normalize=False .....................................\n",
      "[CV] ......... alpha=0.01, normalize=False, score=0.657, total=   0.1s\n",
      "[CV] alpha=0.01, normalize=False .....................................\n",
      "[CV] ......... alpha=0.01, normalize=False, score=0.574, total=   0.1s\n",
      "[CV] alpha=0.01, normalize=False .....................................\n",
      "[CV] ......... alpha=0.01, normalize=False, score=0.669, total=   0.1s\n",
      "[CV] alpha=0.01, normalize=False .....................................\n",
      "[CV] ......... alpha=0.01, normalize=False, score=0.775, total=   0.1s\n",
      "[CV] alpha=0.1, normalize=True .......................................\n",
      "[CV] ........... alpha=0.1, normalize=True, score=0.721, total=   0.1s\n",
      "[CV] alpha=0.1, normalize=True .......................................\n",
      "[CV] ........... alpha=0.1, normalize=True, score=0.632, total=   0.1s\n",
      "[CV] alpha=0.1, normalize=True .......................................\n",
      "[CV] ........... alpha=0.1, normalize=True, score=0.619, total=   0.1s\n",
      "[CV] alpha=0.1, normalize=True .......................................\n",
      "[CV] ........... alpha=0.1, normalize=True, score=0.647, total=   0.1s\n",
      "[CV] alpha=0.1, normalize=True .......................................\n",
      "[CV] ........... alpha=0.1, normalize=True, score=0.757, total=   0.1s\n",
      "[CV] alpha=0.1, normalize=False ......................................\n",
      "[CV] .......... alpha=0.1, normalize=False, score=0.732, total=   0.1s\n",
      "[CV] alpha=0.1, normalize=False ......................................\n",
      "[CV] .......... alpha=0.1, normalize=False, score=0.657, total=   0.1s\n",
      "[CV] alpha=0.1, normalize=False ......................................\n",
      "[CV] .......... alpha=0.1, normalize=False, score=0.574, total=   0.1s\n",
      "[CV] alpha=0.1, normalize=False ......................................\n",
      "[CV] .......... alpha=0.1, normalize=False, score=0.669, total=   0.1s\n",
      "[CV] alpha=0.1, normalize=False ......................................\n",
      "[CV] .......... alpha=0.1, normalize=False, score=0.775, total=   0.1s\n",
      "[CV] alpha=0.5, normalize=True .......................................\n",
      "[CV] ........... alpha=0.5, normalize=True, score=0.660, total=   0.1s\n",
      "[CV] alpha=0.5, normalize=True .......................................\n",
      "[CV] ........... alpha=0.5, normalize=True, score=0.556, total=   0.1s\n",
      "[CV] alpha=0.5, normalize=True .......................................\n",
      "[CV] ........... alpha=0.5, normalize=True, score=0.614, total=   0.1s\n",
      "[CV] alpha=0.5, normalize=True .......................................\n",
      "[CV] ........... alpha=0.5, normalize=True, score=0.573, total=   0.1s\n",
      "[CV] alpha=0.5, normalize=True .......................................\n",
      "[CV] ........... alpha=0.5, normalize=True, score=0.678, total=   0.1s\n",
      "[CV] alpha=0.5, normalize=False ......................................\n",
      "[CV] .......... alpha=0.5, normalize=False, score=0.734, total=   0.1s\n",
      "[CV] alpha=0.5, normalize=False ......................................\n",
      "[CV] .......... alpha=0.5, normalize=False, score=0.657, total=   0.1s\n",
      "[CV] alpha=0.5, normalize=False ......................................\n",
      "[CV] .......... alpha=0.5, normalize=False, score=0.574, total=   0.1s\n",
      "[CV] alpha=0.5, normalize=False ......................................\n",
      "[CV] .......... alpha=0.5, normalize=False, score=0.669, total=   0.1s\n",
      "[CV] alpha=0.5, normalize=False ......................................\n",
      "[CV] .......... alpha=0.5, normalize=False, score=0.777, total=   0.1s\n",
      "[CV] alpha=1, normalize=True .........................................\n",
      "[CV] ............. alpha=1, normalize=True, score=0.600, total=   0.1s\n",
      "[CV] alpha=1, normalize=True .........................................\n",
      "[CV] ............. alpha=1, normalize=True, score=0.494, total=   0.1s\n",
      "[CV] alpha=1, normalize=True .........................................\n",
      "[CV] ............. alpha=1, normalize=True, score=0.562, total=   0.1s\n",
      "[CV] alpha=1, normalize=True .........................................\n",
      "[CV] ............. alpha=1, normalize=True, score=0.511, total=   0.1s\n",
      "[CV] alpha=1, normalize=True .........................................\n",
      "[CV] ............. alpha=1, normalize=True, score=0.602, total=   0.1s\n",
      "[CV] alpha=1, normalize=False ........................................\n",
      "[CV] ............ alpha=1, normalize=False, score=0.736, total=   0.1s\n",
      "[CV] alpha=1, normalize=False ........................................\n",
      "[CV] ............ alpha=1, normalize=False, score=0.657, total=   0.1s\n",
      "[CV] alpha=1, normalize=False ........................................\n",
      "[CV] ............ alpha=1, normalize=False, score=0.573, total=   0.1s\n",
      "[CV] alpha=1, normalize=False ........................................\n",
      "[CV] ............ alpha=1, normalize=False, score=0.668, total=   0.1s\n",
      "[CV] alpha=1, normalize=False ........................................\n",
      "[CV] ............ alpha=1, normalize=False, score=0.777, total=   0.1s\n",
      "[CV] alpha=2, normalize=True .........................................\n",
      "[CV] ............. alpha=2, normalize=True, score=0.507, total=   0.1s\n",
      "[CV] alpha=2, normalize=True .........................................\n",
      "[CV] ............. alpha=2, normalize=True, score=0.409, total=   0.1s\n",
      "[CV] alpha=2, normalize=True .........................................\n",
      "[CV] ............. alpha=2, normalize=True, score=0.471, total=   0.1s\n",
      "[CV] alpha=2, normalize=True .........................................\n",
      "[CV] ............. alpha=2, normalize=True, score=0.425, total=   0.1s\n",
      "[CV] alpha=2, normalize=True .........................................\n",
      "[CV] ............. alpha=2, normalize=True, score=0.495, total=   0.1s\n",
      "[CV] alpha=2, normalize=False ........................................\n",
      "[CV] ............ alpha=2, normalize=False, score=0.738, total=   0.1s\n",
      "[CV] alpha=2, normalize=False ........................................\n",
      "[CV] ............ alpha=2, normalize=False, score=0.656, total=   0.1s\n",
      "[CV] alpha=2, normalize=False ........................................\n",
      "[CV] ............ alpha=2, normalize=False, score=0.572, total=   0.1s\n",
      "[CV] alpha=2, normalize=False ........................................\n",
      "[CV] ............ alpha=2, normalize=False, score=0.666, total=   0.1s\n",
      "[CV] alpha=2, normalize=False ........................................\n",
      "[CV] ............ alpha=2, normalize=False, score=0.778, total=   0.1s\n",
      "Fitting 5 folds for each of 4 candidates, totalling 20 fits\n",
      "[CV] criterion=mse, splitter=best ....................................\n"
     ]
    },
    {
     "name": "stderr",
     "output_type": "stream",
     "text": [
      "[Parallel(n_jobs=1)]: Done  50 out of  50 | elapsed:    4.7s finished\n",
      "[Parallel(n_jobs=1)]: Using backend SequentialBackend with 1 concurrent workers.\n"
     ]
    },
    {
     "name": "stdout",
     "output_type": "stream",
     "text": [
      "[CV] ........ criterion=mse, splitter=best, score=0.398, total=   0.6s\n",
      "[CV] criterion=mse, splitter=best ....................................\n"
     ]
    },
    {
     "name": "stderr",
     "output_type": "stream",
     "text": [
      "[Parallel(n_jobs=1)]: Done   1 out of   1 | elapsed:    0.5s remaining:    0.0s\n"
     ]
    },
    {
     "name": "stdout",
     "output_type": "stream",
     "text": [
      "[CV] ........ criterion=mse, splitter=best, score=0.632, total=   0.5s\n",
      "[CV] criterion=mse, splitter=best ....................................\n"
     ]
    },
    {
     "name": "stderr",
     "output_type": "stream",
     "text": [
      "[Parallel(n_jobs=1)]: Done   2 out of   2 | elapsed:    1.0s remaining:    0.0s\n"
     ]
    },
    {
     "name": "stdout",
     "output_type": "stream",
     "text": [
      "[CV] ........ criterion=mse, splitter=best, score=0.599, total=   0.6s\n",
      "[CV] criterion=mse, splitter=best ....................................\n",
      "[CV] ........ criterion=mse, splitter=best, score=0.525, total=   0.5s\n",
      "[CV] criterion=mse, splitter=best ....................................\n",
      "[CV] ........ criterion=mse, splitter=best, score=0.503, total=   0.4s\n",
      "[CV] criterion=mse, splitter=random ..................................\n",
      "[CV] ...... criterion=mse, splitter=random, score=0.474, total=   0.5s\n",
      "[CV] criterion=mse, splitter=random ..................................\n",
      "[CV] ...... criterion=mse, splitter=random, score=0.662, total=   0.6s\n",
      "[CV] criterion=mse, splitter=random ..................................\n",
      "[CV] ...... criterion=mse, splitter=random, score=0.484, total=   0.4s\n",
      "[CV] criterion=mse, splitter=random ..................................\n",
      "[CV] ...... criterion=mse, splitter=random, score=0.500, total=   0.4s\n",
      "[CV] criterion=mse, splitter=random ..................................\n",
      "[CV] ...... criterion=mse, splitter=random, score=0.551, total=   0.4s\n",
      "[CV] criterion=friedman_mse, splitter=best ...........................\n",
      "[CV]  criterion=friedman_mse, splitter=best, score=0.404, total=   0.5s\n",
      "[CV] criterion=friedman_mse, splitter=best ...........................\n",
      "[CV]  criterion=friedman_mse, splitter=best, score=0.631, total=   0.5s\n",
      "[CV] criterion=friedman_mse, splitter=best ...........................\n",
      "[CV]  criterion=friedman_mse, splitter=best, score=0.603, total=   0.7s\n",
      "[CV] criterion=friedman_mse, splitter=best ...........................\n",
      "[CV]  criterion=friedman_mse, splitter=best, score=0.525, total=   0.6s\n",
      "[CV] criterion=friedman_mse, splitter=best ...........................\n",
      "[CV]  criterion=friedman_mse, splitter=best, score=0.533, total=   0.5s\n",
      "[CV] criterion=friedman_mse, splitter=random .........................\n",
      "[CV]  criterion=friedman_mse, splitter=random, score=0.357, total=   0.4s\n",
      "[CV] criterion=friedman_mse, splitter=random .........................\n",
      "[CV]  criterion=friedman_mse, splitter=random, score=0.576, total=   0.4s\n",
      "[CV] criterion=friedman_mse, splitter=random .........................\n",
      "[CV]  criterion=friedman_mse, splitter=random, score=0.616, total=   0.4s\n",
      "[CV] criterion=friedman_mse, splitter=random .........................\n",
      "[CV]  criterion=friedman_mse, splitter=random, score=0.533, total=   0.7s\n",
      "[CV] criterion=friedman_mse, splitter=random .........................\n",
      "[CV]  criterion=friedman_mse, splitter=random, score=0.647, total=   0.5s\n"
     ]
    },
    {
     "name": "stderr",
     "output_type": "stream",
     "text": [
      "[Parallel(n_jobs=1)]: Done  20 out of  20 | elapsed:   10.1s finished\n"
     ]
    },
    {
     "data": {
      "text/html": [
       "<div>\n",
       "<style scoped>\n",
       "    .dataframe tbody tr th:only-of-type {\n",
       "        vertical-align: middle;\n",
       "    }\n",
       "\n",
       "    .dataframe tbody tr th {\n",
       "        vertical-align: top;\n",
       "    }\n",
       "\n",
       "    .dataframe thead th {\n",
       "        text-align: right;\n",
       "    }\n",
       "</style>\n",
       "<table border=\"1\" class=\"dataframe\">\n",
       "  <thead>\n",
       "    <tr style=\"text-align: right;\">\n",
       "      <th></th>\n",
       "      <th>model</th>\n",
       "      <th>best_score</th>\n",
       "      <th>best_params</th>\n",
       "    </tr>\n",
       "  </thead>\n",
       "  <tbody>\n",
       "    <tr>\n",
       "      <th>0</th>\n",
       "      <td>linear_regression</td>\n",
       "      <td>0.681080</td>\n",
       "      <td>{'normalize': False}</td>\n",
       "    </tr>\n",
       "    <tr>\n",
       "      <th>1</th>\n",
       "      <td>lasso</td>\n",
       "      <td>0.680705</td>\n",
       "      <td>{'alpha': 0.01, 'normalize': False, 'selection...</td>\n",
       "    </tr>\n",
       "    <tr>\n",
       "      <th>2</th>\n",
       "      <td>ridge</td>\n",
       "      <td>0.682629</td>\n",
       "      <td>{'alpha': 1, 'normalize': False}</td>\n",
       "    </tr>\n",
       "    <tr>\n",
       "      <th>3</th>\n",
       "      <td>decision_tree</td>\n",
       "      <td>0.545902</td>\n",
       "      <td>{'criterion': 'friedman_mse', 'splitter': 'ran...</td>\n",
       "    </tr>\n",
       "  </tbody>\n",
       "</table>\n",
       "</div>"
      ],
      "text/plain": [
       "               model  best_score  \\\n",
       "0  linear_regression    0.681080   \n",
       "1              lasso    0.680705   \n",
       "2              ridge    0.682629   \n",
       "3      decision_tree    0.545902   \n",
       "\n",
       "                                         best_params  \n",
       "0                               {'normalize': False}  \n",
       "1  {'alpha': 0.01, 'normalize': False, 'selection...  \n",
       "2                   {'alpha': 1, 'normalize': False}  \n",
       "3  {'criterion': 'friedman_mse', 'splitter': 'ran...  "
      ]
     },
     "execution_count": 72,
     "metadata": {},
     "output_type": "execute_result"
    }
   ],
   "source": [
    "# Finding the best model and parameters with GridSearchCV\n",
    "\n",
    "from sklearn.model_selection import GridSearchCV\n",
    "\n",
    "from sklearn.linear_model import Lasso\n",
    "from sklearn.linear_model import Ridge\n",
    "from sklearn.tree import DecisionTreeRegressor\n",
    "\n",
    "\n",
    "def find_best_model_using_gridsearchcv(X, y):\n",
    "    algos = {\n",
    "        'linear_regression' : {\n",
    "            'model': LinearRegression(),\n",
    "            'params': {\n",
    "                'normalize': [True, False]\n",
    "            }\n",
    "        },\n",
    "        'lasso': {\n",
    "            'model': Lasso(),\n",
    "            'params': {\n",
    "                'alpha': [0.01, 0.1, 0.5, 1, 2],\n",
    "                'normalize' : [True, False],\n",
    "                'selection': ['random', 'cyclic']\n",
    "            }\n",
    "            },\n",
    "        'ridge': {\n",
    "            'model': Ridge(),\n",
    "            'params': {\n",
    "                'alpha': [0.01, 0.1, 0.5, 1, 2],\n",
    "                'normalize' : [True, False],\n",
    "            }\n",
    "        },\n",
    "        'decision_tree': {\n",
    "            'model': DecisionTreeRegressor(),\n",
    "            'params': {\n",
    "                'criterion' : ['mse','friedman_mse'],\n",
    "                'splitter': ['best','random']\n",
    "            }\n",
    "        }\n",
    "    }\n",
    "    scores = []\n",
    "    cv = ShuffleSplit(n_splits=5, test_size=0.2, random_state=0)\n",
    "    for algo_name, config in algos.items():\n",
    "        gs =  GridSearchCV(config['model'], config['params'], cv=cv, return_train_score=False, verbose=3)\n",
    "        gs.fit(X,y)\n",
    "        scores.append({\n",
    "            'model': algo_name,\n",
    "            'best_score': gs.best_score_,\n",
    "            'best_params': gs.best_params_\n",
    "        })\n",
    "\n",
    "    return pd.DataFrame(scores,columns=['model','best_score','best_params'])\n",
    "\n",
    "find_best_model_using_gridsearchcv(X, y)"
   ]
  },
  {
   "cell_type": "markdown",
   "metadata": {},
   "source": [
    "The models have very similar R2 values. The best performing model is the ridge regressor with an alpha of 1 and no normalization. Let us fit this model and see how it predicts."
   ]
  },
  {
   "cell_type": "code",
   "execution_count": 78,
   "metadata": {},
   "outputs": [
    {
     "data": {
      "text/plain": [
       "Ridge(alpha=1)"
      ]
     },
     "execution_count": 78,
     "metadata": {},
     "output_type": "execute_result"
    }
   ],
   "source": [
    "ridge_model = Ridge(alpha=1, normalize=False) \n",
    "ridge_model.fit(X_train, y_train)"
   ]
  },
  {
   "cell_type": "code",
   "execution_count": 79,
   "metadata": {},
   "outputs": [],
   "source": [
    "def predict_price(location,sqft,bath,bhk):    \n",
    "    loc_index = np.where(X.columns==location)[0][0]\n",
    "\n",
    "    x = np.zeros(len(X.columns))\n",
    "    x[0] = sqft\n",
    "    x[1] = bath\n",
    "    x[2] = bhk\n",
    "    if loc_index >= 0:\n",
    "        x[loc_index] = 1\n",
    "\n",
    "    return ridge_model.predict([x])[0]"
   ]
  },
  {
   "cell_type": "code",
   "execution_count": 80,
   "metadata": {},
   "outputs": [
    {
     "data": {
      "text/plain": [
       "96.34597911411242"
      ]
     },
     "execution_count": 80,
     "metadata": {},
     "output_type": "execute_result"
    }
   ],
   "source": [
    "predict_price('1st Phase JP Nagar',1000, 2, 2)"
   ]
  },
  {
   "cell_type": "code",
   "execution_count": 81,
   "metadata": {},
   "outputs": [
    {
     "data": {
      "text/plain": [
       "94.66522214112346"
      ]
     },
     "execution_count": 81,
     "metadata": {},
     "output_type": "execute_result"
    }
   ],
   "source": [
    "predict_price('1st Phase JP Nagar',1000, 3, 1)"
   ]
  },
  {
   "cell_type": "code",
   "execution_count": 82,
   "metadata": {},
   "outputs": [
    {
     "data": {
      "text/plain": [
       "185.81496718069326"
      ]
     },
     "execution_count": 82,
     "metadata": {},
     "output_type": "execute_result"
    }
   ],
   "source": [
    "predict_price('Indira Nagar',1000, 2, 2)"
   ]
  },
  {
   "cell_type": "code",
   "execution_count": 83,
   "metadata": {},
   "outputs": [
    {
     "data": {
      "text/plain": [
       "191.6887627597806"
      ]
     },
     "execution_count": 83,
     "metadata": {},
     "output_type": "execute_result"
    }
   ],
   "source": [
    "predict_price('Indira Nagar',1000, 3, 3)"
   ]
  },
  {
   "cell_type": "markdown",
   "metadata": {},
   "source": [
    "## Exporting model"
   ]
  },
  {
   "cell_type": "code",
   "execution_count": 84,
   "metadata": {},
   "outputs": [],
   "source": [
    "import pickle\n",
    "with open('banglore_home_prices_model.pickle', 'wb') as f:\n",
    "    pickle.dump(ridge_model, f)"
   ]
  },
  {
   "cell_type": "code",
   "execution_count": 86,
   "metadata": {},
   "outputs": [],
   "source": [
    "import json\n",
    "columns = {\n",
    "    'data_columns' : [col.lower() for col in X.columns]\n",
    "}\n",
    "with open(\"columns.json\", \"w\") as f:\n",
    "    f.write(json.dumps(columns))"
   ]
  }
 ],
 "metadata": {
  "kernelspec": {
   "display_name": "Python 3 (ipykernel)",
   "language": "python",
   "name": "python3"
  },
  "language_info": {
   "codemirror_mode": {
    "name": "ipython",
    "version": 3
   },
   "file_extension": ".py",
   "mimetype": "text/x-python",
   "name": "python",
   "nbconvert_exporter": "python",
   "pygments_lexer": "ipython3",
   "version": "3.8.11"
  }
 },
 "nbformat": 4,
 "nbformat_minor": 4
}
